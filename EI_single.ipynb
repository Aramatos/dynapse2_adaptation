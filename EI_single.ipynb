{
 "cells": [
  {
   "cell_type": "markdown",
   "metadata": {},
   "source": [
    "<font size=8> Network Tests\n"
   ]
  },
  {
   "cell_type": "code",
   "execution_count": 1,
   "metadata": {},
   "outputs": [],
   "source": [
    "#Common Python Packages\n",
    "from pickle import TRUE\n",
    "import pickle\n",
    "import numpy as np\n",
    "import matplotlib.pyplot as plt\n",
    "import timeout_decorator\n",
    "\n",
    "#dynapse2 spikegen imports\n",
    "from lib.dynapse2_util import *\n",
    "from lib.dynapse2_network import Network\n",
    "from lib.dynapse2_spikegen import send_events,get_fpga_time, send_virtual_events, poisson_gen, isi_gen,regular_gen\n",
    "from lib.dynapse2_raster import *\n",
    "from lib.dynapse2_obj import *\n",
    "\n",
    "#Statistics imports\n",
    "from scipy.optimize import curve_fit\n",
    "from scipy.signal import savgol_filter\n",
    "from scipy.signal import butter, filtfilt\n",
    "from sklearn.linear_model import LinearRegression\n",
    "from scipy.stats import linregress\n",
    "from itertools import product\n",
    "#my imports\n",
    "from adaptation import pc_single,ff,pc_pv_sst,ff_network\n",
    "from adaptation_lib.spike_stats import *\n",
    "from adaptation_lib.dynapse_setup import *\n",
    "from adaptation_lib.graphing import *\n",
    "from configs import neuron_configs_bio\n",
    "\n",
    "\n",
    "# Determine the user's home directory\n",
    "home_directory = os.path.expanduser(\"~\")\n",
    "# Path to the Documents directory\n",
    "documents_path = os.path.join(home_directory, \"Documents\")\n",
    "# Path to the dynapse-se2-data directory within Documents\n",
    "save_directory_path = os.path.join(documents_path, \"dynapse-se2-data\")\n",
    "# Path to the data\n",
    "data_type_path = os.path.join(save_directory_path, \"EI_test\")\n",
    "\n",
    "@timeout_decorator.timeout(40)  # Set a 5-second timeout\n",
    "def run_simulation(neuron_config):\n",
    "    return pc_pv_sst.pc_pv_sst(\n",
    "        board=board,\n",
    "        profile_path=profile_path,\n",
    "        number_of_chips=number_of_chips,\n",
    "        neuron_config=neuron_config\n",
    "    )"
   ]
  },
  {
   "cell_type": "markdown",
   "metadata": {},
   "source": [
    "<font size=7> Manual Tuning\n"
   ]
  },
  {
   "cell_type": "code",
   "execution_count": 2,
   "metadata": {},
   "outputs": [
    {
     "name": "stdout",
     "output_type": "stream",
     "text": [
      "[<samna.device.DeviceInfo object at 0x7f401ab6f170>]\n"
     ]
    }
   ],
   "source": [
    "[board,profile_path,number_of_chips]=obtain_board()"
   ]
  },
  {
   "cell_type": "code",
   "execution_count": 5,
   "metadata": {},
   "outputs": [
    {
     "name": "stdout",
     "output_type": "stream",
     "text": [
      "Setting Latches\n",
      "Setting up network\n",
      "Adding connections\n",
      "\n",
      "Setting monitors\n",
      "20 100 10\n",
      "\n",
      "All configurations done!\n",
      "\n",
      "Input events created\n",
      "initilize run dynapse\n",
      "dummy events sent\n",
      "\n",
      "getting fpga time\n",
      "\n",
      "\n",
      "setting virtual neurons\n",
      "\n",
      "Simulation done\n",
      "PC_CV_average: 0.3 PV_CV_average: 1.12 SST_CV_average: 0.0\n",
      "PC_synchrony: 0.11 PV_CV_average: 0.26 SST_CV_average: nan\n"
     ]
    }
   ],
   "source": [
    "neuron_config=neuron_configs_bio.config()\n",
    "\n",
    "neuron_config['SST_W0']=[0,0]#input weight to SST\n",
    "neuron_config['SST_W1']=[0,0]#PC to SST weight\n",
    "neuron_config['SST_W2']=[0,0]#PV shunt inhibition to SST\n",
    "\n",
    "neuron_config['SST_AMPA_GAIN']=[1,200]\n",
    "neuron_config['SST_AMPA_TAU']=[1,10]\n",
    "neuron_config['SST_LEAK']=[0,80]\n",
    "\n",
    "neuron_config['Input_SST']=0#.1#.1\n",
    "\n",
    "neuron_config['PC_SST']=0#.1\n",
    "neuron_config['PC_PC']=.0#.1\n",
    "\n",
    "\n",
    "neuron_config['PC_Adaptation']=True\n",
    "neuron_config['duration']=1\n",
    "neuron_config['input_type']='Poisson'\n",
    "neuron_config['in_freq']=20\n",
    "\n",
    "[output_events,test_config]=pc_pv_sst.pc_pv_sst(board=board, profile_path=profile_path, number_of_chips=number_of_chips,neuron_config=neuron_config)\n",
    "[cv_values,synchrony_values]=run_dynamic_anal(output_events,test_config)\n",
    "if 'raster_fig' in locals() and raster_fig is not None:\n",
    "    raster_fig.savefig('raster_previous.png')\n",
    "if 'fvt_fig' in locals() and fvt_fig is not None:\n",
    "    fvt_fig.savefig('fvt_previous.png')\n",
    "raster_fig=script_annotated_raster_plot(test_config,output_events,neuron_config,cv_values=cv_values,syn_values=synchrony_values,save=True,annotate=False,annotate_network=True)\n",
    "fvt_fig=frequency_vs_time_plot(frequency_over_time(test_config,output_events),test_config,save=True,annotate=False)\n",
    "raster_fig.savefig('raster_current.png')\n",
    "fvt_fig.savefig('fvt_current.png')\n",
    "\n"
   ]
  },
  {
   "cell_type": "code",
   "execution_count": null,
   "metadata": {},
   "outputs": [],
   "source": []
  }
 ],
 "metadata": {
  "kernelspec": {
   "display_name": "dynapse2",
   "language": "python",
   "name": "python3"
  },
  "language_info": {
   "codemirror_mode": {
    "name": "ipython",
    "version": 3
   },
   "file_extension": ".py",
   "mimetype": "text/x-python",
   "name": "python",
   "nbconvert_exporter": "python",
   "pygments_lexer": "ipython3",
   "version": "3.10.9"
  },
  "orig_nbformat": 4
 },
 "nbformat": 4,
 "nbformat_minor": 2
}
