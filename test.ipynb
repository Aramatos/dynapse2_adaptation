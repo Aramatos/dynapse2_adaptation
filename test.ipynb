{
 "cells": [
  {
   "cell_type": "code",
   "execution_count": 5,
   "metadata": {},
   "outputs": [
    {
     "data": {
      "text/plain": [
       "list"
      ]
     },
     "execution_count": 5,
     "metadata": {},
     "output_type": "execute_result"
    }
   ],
   "source": [
    "import numpy as np  \n",
    "import matplotlib.pyplot as plt\n",
    "\n",
    "\n",
    "pc_rates=[0]\n",
    "type(pc_rates)\n"
   ]
  },
  {
   "cell_type": "code",
   "execution_count": 25,
   "metadata": {},
   "outputs": [
    {
     "name": "stdout",
     "output_type": "stream",
     "text": [
      "[[0. 1. 2. 0. 1. 2.]\n",
      " [0. 1. 2. 0. 1. 2.]\n",
      " [0. 1. 2. 0. 1. 2.]\n",
      " [0. 1. 2. 0. 1. 2.]\n",
      " [0. 1. 2. 0. 1. 2.]\n",
      " [0. 1. 2. 0. 1. 2.]\n",
      " [0. 1. 2. 0. 1. 2.]\n",
      " [0. 1. 2. 0. 1. 2.]\n",
      " [0. 1. 2. 0. 1. 2.]\n",
      " [0. 1. 2. 0. 1. 2.]]\n"
     ]
    }
   ],
   "source": [
    "x=[np.zeros(10),np.zeros(10)+1,np.zeros(10)+2]\n",
    "y=[np.zeros(10),np.zeros(10)+1,np.zeros(10)+2]\n",
    "z=np.append(x,y,axis=0)\n",
    "print(z.transpose())\n"
   ]
  },
  {
   "cell_type": "code",
   "execution_count": 3,
   "metadata": {},
   "outputs": [
    {
     "name": "stdout",
     "output_type": "stream",
     "text": [
      "[0, 1, 2, 3, 4, 5, 6, 7, 8, 9, 0, 1, 2, 3, 4, 5, 6, 7, 8, 9, 0, 1, 2, 3, 4, 5, 6, 7, 8, 9]\n"
     ]
    }
   ],
   "source": [
    "nvn=10\n",
    "X=[i for i in range(nvn)]*3\n",
    "print(X)"
   ]
  },
  {
   "cell_type": "code",
   "execution_count": 9,
   "metadata": {},
   "outputs": [
    {
     "name": "stdout",
     "output_type": "stream",
     "text": [
      "[8.900000e-05 1.425600e-02 2.828400e-02 4.231200e-02 5.634000e-02\n",
      " 7.036800e-02 8.439600e-02 9.842400e-02 1.124650e-01 1.265030e-01\n",
      " 1.425150e-01 1.585650e-01 1.765780e-01 1.946130e-01 2.126490e-01\n",
      " 2.306850e-01 2.487210e-01 2.667570e-01 2.847930e-01 3.028290e-01\n",
      " 3.208660e-01 3.389010e-01 3.569380e-01 3.749730e-01 3.930090e-01\n",
      " 4.110460e-01 4.290820e-01 4.471180e-01 4.651540e-01 4.831910e-01\n",
      " 5.012270e-01 5.192700e-01 5.372980e-01 5.553400e-01 5.733700e-01\n",
      " 5.914060e-01 6.094420e-01 6.274790e-01 6.455210e-01 6.635500e-01\n",
      " 6.815860e-01 6.996230e-01 7.176640e-01 7.356950e-01 7.537320e-01\n",
      " 7.717680e-01 7.898030e-01 8.078390e-01 8.258760e-01 8.439120e-01\n",
      " 8.619470e-01 8.799830e-01 8.980250e-01 9.160550e-01 9.340920e-01\n",
      " 9.521280e-01 9.701640e-01 1.974190e+00 1.988206e+00 2.002233e+00\n",
      " 2.016261e+00 2.030288e+00 2.044318e+00 2.058355e+00 2.072372e+00\n",
      " 2.086403e+00 2.100450e+00 2.116463e+00 2.132514e+00 2.150533e+00\n",
      " 2.168561e+00 2.186597e+00 2.204638e+00 2.222670e+00 2.240706e+00\n",
      " 2.258742e+00 2.276777e+00 2.294814e+00 2.312850e+00 2.330886e+00\n",
      " 2.348922e+00 2.366958e+00 2.384994e+00 2.403035e+00 2.421066e+00\n",
      " 2.439109e+00 2.457138e+00 2.475181e+00 2.493211e+00 2.511247e+00\n",
      " 2.529283e+00 2.547319e+00 2.565355e+00 2.583390e+00 2.601427e+00\n",
      " 2.619462e+00 2.637499e+00 2.655535e+00 2.673570e+00 2.691614e+00\n",
      " 2.709643e+00 2.727680e+00 2.745716e+00 2.763752e+00 2.781788e+00\n",
      " 2.799823e+00 2.817859e+00 2.835896e+00 2.853931e+00 2.871967e+00\n",
      " 2.890004e+00 2.908040e+00 2.926081e+00 2.944111e+00 2.962149e+00]\n"
     ]
    }
   ],
   "source": [
    "spike_times=np.load('spike_times.npy',allow_pickle=True)\n",
    "print(spike_times[0])"
   ]
  },
  {
   "cell_type": "code",
   "execution_count": null,
   "metadata": {},
   "outputs": [],
   "source": []
  }
 ],
 "metadata": {
  "kernelspec": {
   "display_name": "Python 3",
   "language": "python",
   "name": "python3"
  },
  "language_info": {
   "codemirror_mode": {
    "name": "ipython",
    "version": 3
   },
   "file_extension": ".py",
   "mimetype": "text/x-python",
   "name": "python",
   "nbconvert_exporter": "python",
   "pygments_lexer": "ipython3",
   "version": "3.10.9"
  },
  "orig_nbformat": 4
 },
 "nbformat": 4,
 "nbformat_minor": 2
}
