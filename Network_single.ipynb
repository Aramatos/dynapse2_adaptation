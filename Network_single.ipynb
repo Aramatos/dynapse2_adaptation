{
 "cells": [
  {
   "cell_type": "markdown",
   "metadata": {},
   "source": [
    "<font size=8> Network Tests\n"
   ]
  },
  {
   "cell_type": "code",
   "execution_count": 1,
   "metadata": {},
   "outputs": [],
   "source": [
    "#Common Python Packages\n",
    "from pickle import TRUE\n",
    "import pickle\n",
    "import numpy as np\n",
    "import matplotlib.pyplot as plt\n",
    "import timeout_decorator\n",
    "\n",
    "#dynapse2 spikegen imports\n",
    "from lib.dynapse2_util import *\n",
    "from lib.dynapse2_network import Network\n",
    "from lib.dynapse2_spikegen import send_events,get_fpga_time, send_virtual_events, poisson_gen, isi_gen,regular_gen\n",
    "from lib.dynapse2_raster import *\n",
    "from lib.dynapse2_obj import *\n",
    "\n",
    "#Statistics imports\n",
    "from scipy.optimize import curve_fit\n",
    "from scipy.signal import savgol_filter\n",
    "from scipy.signal import butter, filtfilt\n",
    "from sklearn.linear_model import LinearRegression\n",
    "from scipy.stats import linregress\n",
    "from itertools import product\n",
    "#my imports\n",
    "from adaptation import pc_single,ff,pc_pv_sst,ff_network\n",
    "from adaptation_lib.spike_stats import *\n",
    "from adaptation_lib.dynapse_setup import *\n",
    "from adaptation_lib.graphing import *\n",
    "from configs import neuron_configs_bio\n",
    "\n",
    "\n",
    "\n",
    "@timeout_decorator.timeout(40)  # Set a 5-second timeout\n",
    "def run_simulation(neuron_config):\n",
    "    return pc_pv_sst.pc_pv_sst(\n",
    "        board=board,\n",
    "        profile_path=profile_path,\n",
    "        number_of_chips=number_of_chips,\n",
    "        neuron_config=neuron_config\n",
    "    )"
   ]
  },
  {
   "cell_type": "markdown",
   "metadata": {},
   "source": [
    "<font size=7> Manual Tuning\n"
   ]
  },
  {
   "cell_type": "code",
   "execution_count": 2,
   "metadata": {},
   "outputs": [
    {
     "name": "stdout",
     "output_type": "stream",
     "text": [
      "[<samna.device.DeviceInfo object at 0x7f40727c1130>]\n"
     ]
    }
   ],
   "source": [
    "[board,profile_path,number_of_chips]=obtain_board()"
   ]
  },
  {
   "cell_type": "code",
   "execution_count": 3,
   "metadata": {},
   "outputs": [
    {
     "name": "stdout",
     "output_type": "stream",
     "text": [
      "Setting Latches\n",
      "Setting up network\n",
      "Adding connections\n",
      "\n",
      "Setting monitors\n",
      "20 100 10\n",
      "\n",
      "All configurations done!\n",
      "\n",
      "Input events created\n",
      "initilize run dynapse\n",
      "dummy events sent\n",
      "\n",
      "getting fpga time\n",
      "\n",
      "\n",
      "setting virtual neurons\n",
      "\n",
      "Simulation done\n",
      "PC_CV_average: 0.07 PV_CV_average: 0.31 SST_CV_average: 0.0\n",
      "PC_synchrony: 0.24 PV_CV_average: 0.45 SST_CV_average: 0.0\n"
     ]
    }
   ],
   "source": [
    "neuron_config=neuron_configs_bio.config()\n",
    "\n",
    "neuron_config['SST_W0']=[2,150]#input weight to PC\n",
    "neuron_config['SST_W1']=[4,200]#PC to SST weight\n",
    "neuron_config['SST_W2']=[0,50]#PV shunt inhibition to SST\n",
    "\n",
    "\n",
    "neuron_config['SST_AMPA_GAIN']=[1,100]\n",
    "neuron_config['SST_AMPA_TAU']=[1,10]\n",
    "neuron_config['SST_LEAK']=[0,10]\n",
    "\n",
    "neuron_config['Input_SST']=.2#.1#.1\n",
    "\n",
    "neuron_config['PC_SST']=.1#.1\n",
    "\n",
    "\n",
    "neuron_config['PC_Adaptation']=True\n",
    "neuron_config['duration']=1\n",
    "neuron_config['input_type']='Regular'\n",
    "neuron_config['in_freq']=20\n",
    "\n",
    "[output_events,test_config]=pc_pv_sst.pc_pv_sst(board=board, profile_path=profile_path, number_of_chips=number_of_chips,neuron_config=neuron_config)\n",
    "[cv_values,synchrony_values]=run_dynamic_anal(output_events,test_config)\n",
    "if 'raster_fig' in locals() and raster_fig is not None:\n",
    "    raster_fig.savefig('raster_previous.png')\n",
    "if 'fvt_fig' in locals() and fvt_fig is not None:\n",
    "    fvt_fig.savefig('fvt_previous.png')\n",
    "raster_fig=script_annotated_raster_plot(test_config,output_events,neuron_config,cv_values=cv_values,syn_values=synchrony_values,save=True,annotate=False,annotate_network=True)\n",
    "fvt_fig=frequency_vs_time_plot(frequency_over_time(test_config,output_events),test_config,save=True,annotate=False)\n",
    "raster_fig.savefig('raster_current.png')\n",
    "fvt_fig.savefig('fvt_current.png')\n",
    "\n"
   ]
  },
  {
   "cell_type": "code",
   "execution_count": 7,
   "metadata": {},
   "outputs": [],
   "source": [
    "\n",
    "def calculate_slope(time_axis, ff_windows_sst):\n",
    "    slope, intercept, r_value, p_value, std_err = linregress(time_axis, ff_windows_sst)\n",
    "    return slope\n"
   ]
  },
  {
   "cell_type": "code",
   "execution_count": 21,
   "metadata": {},
   "outputs": [
    {
     "data": {
      "image/png": "[encoded data removed]",
      "text/plain": [
       "<Figure size 640x480 with 1 Axes>"
      ]
     },
     "metadata": {},
     "output_type": "display_data"
    }
   ],
   "source": [
    "# Setting Seaborn style\n",
    "\n",
    "# Your function call for frequency over time\n",
    "[time_axis,ff_windows_pc,ff_windows_pv,ff_windows_sst] = frequency_over_time(test_config,output_events)\n",
    "\n",
    "# Linear regression\n",
    "slope, intercept, r_value, p_value, std_err = linregress(time_axis, ff_windows_sst)\n",
    "\n",
    "# Scatter plot of the data\n",
    "plt.scatter(time_axis, ff_windows_sst, label='Data', color='blue')\n",
    "\n",
    "# Line plot of the linear regression\n",
    "plt.plot(time_axis, intercept + slope * np.array(time_axis), label='Linear Fit', color='red')\n",
    "\n",
    "# Labels\n",
    "plt.xlabel('Time')\n",
    "plt.ylabel('Frequency')\n",
    "\n",
    "# Removing right and top axes\n",
    "plt.gca().spines['right'].set_visible(False)\n",
    "plt.gca().spines['top'].set_visible(False)\n",
    "\n",
    "# Legend\n",
    "plt.legend()\n",
    "\n",
    "# Displaying the plot\n",
    "plt.show()"
   ]
  },
  {
   "cell_type": "code",
   "execution_count": 6,
   "metadata": {},
   "outputs": [
    {
     "name": "stdout",
     "output_type": "stream",
     "text": [
      "Setting Latches\n",
      "Setting up network\n",
      "Adding connections\n",
      "\n",
      "Setting monitors\n",
      "20 100 10\n",
      "\n",
      "All configurations done!\n",
      "\n",
      "Input events created\n",
      "initilize run dynapse\n",
      "dummy events sent\n"
     ]
    },
    {
     "ename": "KeyboardInterrupt",
     "evalue": "",
     "output_type": "error",
     "traceback": [
      "\u001b[0;31m---------------------------------------------------------------------------\u001b[0m",
      "\u001b[0;31mKeyboardInterrupt\u001b[0m                         Traceback (most recent call last)",
      "\u001b[1;32m/home/sagerhector/Documents/dynapse2_adaptation/Network_single.ipynb Cell 8\u001b[0m line \u001b[0;36m7\n\u001b[1;32m      <a href='vscode-notebook-cell:/home/sagerhector/Documents/dynapse2_adaptation/Network_single.ipynb#X10sZmlsZQ%3D%3D?line=4'>5</a>\u001b[0m \u001b[39mfor\u001b[39;00m pc_pc \u001b[39min\u001b[39;00m recurrent_connetions:\n\u001b[1;32m      <a href='vscode-notebook-cell:/home/sagerhector/Documents/dynapse2_adaptation/Network_single.ipynb#X10sZmlsZQ%3D%3D?line=5'>6</a>\u001b[0m     neuron_config[\u001b[39m'\u001b[39m\u001b[39mPC_PC\u001b[39m\u001b[39m'\u001b[39m]\u001b[39m=\u001b[39mpc_pc\n\u001b[0;32m----> <a href='vscode-notebook-cell:/home/sagerhector/Documents/dynapse2_adaptation/Network_single.ipynb#X10sZmlsZQ%3D%3D?line=6'>7</a>\u001b[0m     [output_events,test_config]\u001b[39m=\u001b[39mpc_pv_sst\u001b[39m.\u001b[39;49mpc_pv_sst(board\u001b[39m=\u001b[39;49mboard, profile_path\u001b[39m=\u001b[39;49mprofile_path, number_of_chips\u001b[39m=\u001b[39;49mnumber_of_chips,neuron_config\u001b[39m=\u001b[39;49mneuron_config)\n\u001b[1;32m      <a href='vscode-notebook-cell:/home/sagerhector/Documents/dynapse2_adaptation/Network_single.ipynb#X10sZmlsZQ%3D%3D?line=7'>8</a>\u001b[0m     [cv_values_temp,synchrony_values_temp]\u001b[39m=\u001b[39mrun_dynamic_anal(output_events,test_config)\n\u001b[1;32m      <a href='vscode-notebook-cell:/home/sagerhector/Documents/dynapse2_adaptation/Network_single.ipynb#X10sZmlsZQ%3D%3D?line=8'>9</a>\u001b[0m     cv_values\u001b[39m.\u001b[39mappend(cv_values_temp)\n",
      "File \u001b[0;32m~/Documents/dynapse2_adaptation/adaptation/pc_pv_sst.py:112\u001b[0m, in \u001b[0;36mpc_pv_sst\u001b[0;34m(board, profile_path, number_of_chips, neuron_config)\u001b[0m\n\u001b[1;32m    110\u001b[0m input_events\u001b[39m=\u001b[39mcreate_events(input1,neuron_config[\u001b[39m'\u001b[39m\u001b[39mnvn\u001b[39m\u001b[39m'\u001b[39m],neuron_config,neuron_config[\u001b[39m'\u001b[39m\u001b[39min_freq\u001b[39m\u001b[39m'\u001b[39m])\n\u001b[1;32m    111\u001b[0m \u001b[39mprint\u001b[39m(\u001b[39m\"\u001b[39m\u001b[39mInput events created\u001b[39m\u001b[39m\"\u001b[39m)\n\u001b[0;32m--> 112\u001b[0m output_events\u001b[39m=\u001b[39mrun_dynapse(neuron_config,board,input_events)\n\u001b[1;32m    113\u001b[0m \u001b[39mprint\u001b[39m(\u001b[39m\"\u001b[39m\u001b[39mSimulation done\u001b[39m\u001b[39m\"\u001b[39m)\n\u001b[1;32m    114\u001b[0m \u001b[39m# /⅞save_config_axis1(test_config,myConfig,number_of_chips,tname)\u001b[39;00m\n",
      "File \u001b[0;32m~/Documents/dynapse2_adaptation/adaptation_lib/dynapse_setup.py:138\u001b[0m, in \u001b[0;36mrun_dynapse\u001b[0;34m(neuron_config, board, input_events)\u001b[0m\n\u001b[1;32m    136\u001b[0m send_virtual_events(board\u001b[39m=\u001b[39mboard, virtual_events\u001b[39m=\u001b[39m[],min_delay\u001b[39m=\u001b[39m\u001b[39m10000\u001b[39m)\n\u001b[1;32m    137\u001b[0m \u001b[39mprint\u001b[39m(\u001b[39m'\u001b[39m\u001b[39mdummy events sent\u001b[39m\u001b[39m'\u001b[39m)\n\u001b[0;32m--> 138\u001b[0m get_events(board\u001b[39m=\u001b[39;49mboard, extra_time\u001b[39m=\u001b[39;49m\u001b[39m100\u001b[39;49m, output_events\u001b[39m=\u001b[39;49moutput_events)\n\u001b[1;32m    139\u001b[0m \u001b[39mif\u001b[39;00m neuron_config[\u001b[39m'\u001b[39m\u001b[39minput_type\u001b[39m\u001b[39m'\u001b[39m]\u001b[39m==\u001b[39m\u001b[39m'\u001b[39m\u001b[39mDC\u001b[39m\u001b[39m'\u001b[39m:\n\u001b[1;32m    140\u001b[0m   min_delay\u001b[39m=\u001b[39mneuron_config[\u001b[39m'\u001b[39m\u001b[39mduration\u001b[39m\u001b[39m'\u001b[39m]\u001b[39m*\u001b[39m\u001b[39m1e6\u001b[39m\n",
      "File \u001b[0;32m~/Documents/dynapse2_adaptation/lib/dynapse2_raster.py:15\u001b[0m, in \u001b[0;36mget_events\u001b[0;34m(board, extra_time, output_events)\u001b[0m\n\u001b[1;32m     13\u001b[0m     neuron_id \u001b[39m=\u001b[39m tag \u001b[39m+\u001b[39m (ev\u001b[39m.\u001b[39mevent\u001b[39m.\u001b[39mx_hop \u001b[39m+\u001b[39m \u001b[39m6\u001b[39m) \u001b[39m*\u001b[39m \u001b[39m2048\u001b[39m\n\u001b[1;32m     14\u001b[0m     output_events[\u001b[39m0\u001b[39m] \u001b[39m+\u001b[39m\u001b[39m=\u001b[39m [neuron_id]\n\u001b[0;32m---> 15\u001b[0m     output_events[\u001b[39m1\u001b[39m] \u001b[39m+\u001b[39m\u001b[39m=\u001b[39m [ev\u001b[39m.\u001b[39mtimestamp \u001b[39m*\u001b[39m \u001b[39m1e-6\u001b[39m]\n\u001b[1;32m     16\u001b[0m \u001b[39melif\u001b[39;00m tag \u001b[39m==\u001b[39m \u001b[39m2047\u001b[39m:\n\u001b[1;32m     17\u001b[0m     received_last_input \u001b[39m=\u001b[39m \u001b[39mTrue\u001b[39;00m\n",
      "\u001b[0;31mKeyboardInterrupt\u001b[0m: "
     ]
    }
   ],
   "source": [
    "cv_values=[]\n",
    "synchrony_values=[]\n",
    "pc_rates=[]\n",
    "pc_pc_range=np.linspace(0,1,11)\n",
    "\n",
    "for pc_pc in pc_pc_range:\n",
    "    neuron_config['PC_PC']=pc_pc\n",
    "    [output_events,test_config]=pc_pv_sst.pc_pv_sst(board=board, profile_path=profile_path, number_of_chips=number_of_chips,neuron_config=neuron_config)\n",
    "    [cv_values_temp,synchrony_values_temp]=run_dynamic_anal(output_events,test_config)\n",
    "    cv_values.append(cv_values_temp)\n",
    "    rates=spike_count(output_events=output_events)\n",
    "    pop_rates(rates,test_config)\n",
    "    synchrony_values.append(synchrony_values_temp)\n"
   ]
  },
  {
   "cell_type": "code",
   "execution_count": 5,
   "metadata": {},
   "outputs": [
    {
     "name": "stdout",
     "output_type": "stream",
     "text": [
      "[0.  0.1 0.2 0.3 0.4 0.5 0.6 0.7 0.8 0.9 1. ]\n"
     ]
    }
   ],
   "source": [
    "print(np.linspace(0,1,11))"
   ]
  },
  {
   "cell_type": "code",
   "execution_count": null,
   "metadata": {},
   "outputs": [],
   "source": []
  }
 ],
 "metadata": {
  "kernelspec": {
   "display_name": "dynapse2",
   "language": "python",
   "name": "python3"
  },
  "language_info": {
   "codemirror_mode": {
    "name": "ipython",
    "version": 3
   },
   "file_extension": ".py",
   "mimetype": "text/x-python",
   "name": "python",
   "nbconvert_exporter": "python",
   "pygments_lexer": "ipython3",
   "version": "3.10.9"
  },
  "orig_nbformat": 4
 },
 "nbformat": 4,
 "nbformat_minor": 2
}
