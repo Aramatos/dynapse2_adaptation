{
 "cells": [
  {
   "cell_type": "markdown",
   "metadata": {},
   "source": [
    "<font size=8> Network Tests\n"
   ]
  },
  {
   "cell_type": "code",
   "execution_count": 1,
   "metadata": {},
   "outputs": [],
   "source": [
    "#Common Python Packages\n",
    "from pickle import TRUE\n",
    "import pickle\n",
    "import numpy as np\n",
    "import matplotlib.pyplot as plt\n",
    "import timeout_decorator\n",
    "\n",
    "#dynapse2 spikegen imports\n",
    "from lib.dynapse2_util import *\n",
    "from lib.dynapse2_network import Network\n",
    "from lib.dynapse2_spikegen import send_events,get_fpga_time, send_virtual_events, poisson_gen, isi_gen,regular_gen\n",
    "from lib.dynapse2_raster import *\n",
    "from lib.dynapse2_obj import *\n",
    "\n",
    "#Statistics imports\n",
    "from scipy.optimize import curve_fit\n",
    "from scipy.signal import savgol_filter\n",
    "from scipy.signal import butter, filtfilt\n",
    "from sklearn.linear_model import LinearRegression\n",
    "from scipy.stats import linregress\n",
    "from itertools import product\n",
    "#my imports\n",
    "from adaptation import pc_single,ff,pc_pv_sst,ff_network\n",
    "from adaptation_lib.spike_stats import *\n",
    "from adaptation_lib.dynapse_setup import *\n",
    "from adaptation_lib.graphing import *\n",
    "from configs import neuron_configs_bio\n",
    "\n",
    "\n",
    "# Determine the user's home directory\n",
    "home_directory = os.path.expanduser(\"~\")\n",
    "# Path to the Documents directory\n",
    "documents_path = os.path.join(home_directory, \"Documents\")\n",
    "# Path to the dynapse-se2-data directory within Documents\n",
    "base_path = os.path.join(documents_path, \"dynapse-se2-data\")\n",
    "# Path to the random tests\n",
    "random_search_path = os.path.join(documents_path, \"network_random\")"
   ]
  },
  {
   "cell_type": "markdown",
   "metadata": {},
   "source": [
    "<font size=7> Manual Tuning\n"
   ]
  },
  {
   "cell_type": "code",
   "execution_count": 2,
   "metadata": {},
   "outputs": [
    {
     "name": "stdout",
     "output_type": "stream",
     "text": [
      "[<samna.device.DeviceInfo object at 0x7f6b545a64f0>]\n"
     ]
    }
   ],
   "source": [
    "[board,profile_path,number_of_chips]=obtain_board()"
   ]
  },
  {
   "cell_type": "code",
   "execution_count": 1,
   "metadata": {},
   "outputs": [
    {
     "ename": "NameError",
     "evalue": "name 'neuron_configs_bio' is not defined",
     "output_type": "error",
     "traceback": [
      "\u001b[0;31m---------------------------------------------------------------------------\u001b[0m",
      "\u001b[0;31mNameError\u001b[0m                                 Traceback (most recent call last)",
      "Cell \u001b[0;32mIn[1], line 24\u001b[0m\n\u001b[1;32m      9\u001b[0m cursor\u001b[39m.\u001b[39mexecute(\u001b[39m'''\u001b[39m\n\u001b[1;32m     10\u001b[0m \u001b[39mCREATE TABLE IF NOT EXISTS simulations (\u001b[39m\n\u001b[1;32m     11\u001b[0m \u001b[39m    iteration INTEGER PRIMARY KEY,\u001b[39m\n\u001b[0;32m   (...)\u001b[0m\n\u001b[1;32m     20\u001b[0m \u001b[39m)\u001b[39m\n\u001b[1;32m     21\u001b[0m \u001b[39m'''\u001b[39m)\n\u001b[1;32m     22\u001b[0m conn\u001b[39m.\u001b[39mcommit()\n\u001b[0;32m---> 24\u001b[0m neuron_config \u001b[39m=\u001b[39m neuron_configs_bio\u001b[39m.\u001b[39mconfig()\n\u001b[1;32m     26\u001b[0m neuron_config[\u001b[39m'\u001b[39m\u001b[39mPC_Adaptation\u001b[39m\u001b[39m'\u001b[39m] \u001b[39m=\u001b[39m \u001b[39mTrue\u001b[39;00m\n\u001b[1;32m     27\u001b[0m neuron_config[\u001b[39m'\u001b[39m\u001b[39mduration\u001b[39m\u001b[39m'\u001b[39m] \u001b[39m=\u001b[39m \u001b[39m10\u001b[39m\n",
      "\u001b[0;31mNameError\u001b[0m: name 'neuron_configs_bio' is not defined"
     ]
    }
   ],
   "source": [
    "import random\n",
    "import sqlite3\n",
    "import os\n",
    "\n",
    "# Initialize SQLite database\n",
    "conn = sqlite3.connect('simulation_data.db')\n",
    "cursor = conn.cursor()\n",
    "\n",
    "cursor.execute('''\n",
    "CREATE TABLE IF NOT EXISTS simulations (\n",
    "    iteration INTEGER PRIMARY KEY,\n",
    "    SST_W0 TEXT,\n",
    "    SST_W1 TEXT,\n",
    "    SST_AMPA_GAIN TEXT,\n",
    "    SST_AMPA_TAU TEXT,\n",
    "    SST_LEAK TEXT,\n",
    "    Input_SST REAL,\n",
    "    PC_SST REAL,\n",
    "    slope REAL\n",
    ")\n",
    "''')\n",
    "conn.commit()\n",
    "\n",
    "neuron_config = neuron_configs_bio.config()\n",
    "\n",
    "neuron_config['PC_Adaptation'] = True\n",
    "neuron_config['duration'] = 10\n",
    "neuron_config['input_type'] = 'Regular'\n",
    "neuron_config['in_freq'] = 20\n",
    "\n",
    "\n",
    "def randomize_config(neuron_config):\n",
    "    neuron_config['SST_W0'] = [random.randint(1, 3), random.randint(10, 250)]\n",
    "    neuron_config['SST_W1'] = [random.randint(1, 3), random.randint(10, 250)]\n",
    "    neuron_config['SST_AMPA_GAIN'] = [random.randint(1, 3), random.randint(10, 250)]\n",
    "    neuron_config['SST_AMPA_TAU'] = [random.randint(0, 1), random.randint(10, 250)]\n",
    "    neuron_config['SST_LEAK']= [0, random.randint(20, 250)]\n",
    "    neuron_config['Input_SST'] = random.uniform(.05, .5)\n",
    "    neuron_config['PC_SST'] = random.uniform(.05, .5)\n",
    "\n",
    "    return neuron_config\n",
    "\n",
    "\n",
    "@timeout_decorator.timeout(40)  # Set a 5-second timeout\n",
    "\n",
    "def run_simulation(neuron_config):\n",
    "    return pc_pv_sst.pc_pv_sst(\n",
    "        board=board,\n",
    "        profile_path=profile_path,\n",
    "        number_of_chips=number_of_chips,\n",
    "        neuron_config=neuron_config\n",
    "    )\n",
    "\n",
    "\n",
    "# Query to get the count of successful simulations\n",
    "cursor.execute('SELECT COUNT(*) FROM simulations')\n",
    "successful_simulations = cursor.fetchone()[0]\n",
    "\n",
    "for i in range(1000):\n",
    "    neuron_config = randomize_config(neuron_config)\n",
    "    \n",
    "    # Check if this configuration has already been tried\n",
    "    cursor.execute('SELECT * FROM simulations WHERE SST_W0=? AND SST_W1=? AND SST_AMPA_GAIN=? AND SST_AMPA_TAU=? AND SST_LEAK=? AND Input_SST=? AND PC_SST=?',\n",
    "                  (str(neuron_config['SST_W0']), str(neuron_config['SST_W1']), str(neuron_config['SST_AMPA_GAIN']), str(neuron_config['SST_AMPA_TAU']), str(neuron_config['SST_LEAK']), neuron_config['Input_SST'], neuron_config['PC_SST']))\n",
    "    if cursor.fetchone():\n",
    "        print(\"Configuration already tried, skipping...\")\n",
    "        continue\n",
    "    \n",
    "    try:\n",
    "        \n",
    "        [output_events, test_config] = run_simulation(neuron_config)\n",
    "        [cv_values, synchrony_values] = run_dynamic_anal(output_events, test_config)\n",
    "        fot_output= frequency_over_time(test_config, output_events)\n",
    "        fvt_fig = frequency_vs_time_plot(frequency_over_time(test_config, output_events), test_config, save=True, annotate=True,neuron_config=neuron_config)\n",
    "        [time_axis, ff_windows_pc, ff_windows_pv, ff_windows_sst] = fot_output\n",
    "        slope = calculate_slope(time_axis, ff_windows_sst[:-1])\n",
    "        print(f\"Simulation {successful_simulations + 1} completed successfully!\")\n",
    "        successful_simulations += 1\n",
    "        \n",
    "        if successful_simulations >= 2000: # Stop after 100 successful simulations\n",
    "            break\n",
    "        # Saving the fvt_figure\n",
    "        fvt_figure_path = os.path.join(random_search_path, f'fvt_figure_{successful_simulations}.png')\n",
    "        fvt_fig.savefig(fvt_figure_path)\n",
    "        \n",
    "        # Insert data into SQLite database\n",
    "        cursor.execute('INSERT INTO simulations (iteration, SST_W0, SST_W1, SST_AMPA_GAIN, SST_AMPA_TAU, SST_LEAK, Input_SST, PC_SST, slope, fvt_figure_path) VALUES (?, ?, ?, ?, ?, ?, ?, ?, ?, ?)',\n",
    "                      (successful_simulations, str(neuron_config['SST_W0']), str(neuron_config['SST_W1']), str(neuron_config['SST_AMPA_GAIN']), str(neuron_config['SST_AMPA_TAU']), str(neuron_config['SST_LEAK']), neuron_config['Input_SST'], neuron_config['PC_SST'], slope, fvt_figure_path))\n",
    "        conn.commit()\n",
    "        \n",
    "        successful_simulations += 1\n",
    "        print(f\"Simulation {successful_simulations} completed successfully!\")\n",
    "        \n",
    "        if successful_simulations >= 2000:\n",
    "            break\n",
    "    except timeout_decorator.TimeoutError:\n",
    "        print(\"Simulation timed out, trying again with new parameters...\")\n",
    "        \n",
    "print(\"Completed all successful simulations.\")\n",
    "conn.close()\n",
    "\n"
   ]
  },
  {
   "cell_type": "code",
   "execution_count": null,
   "metadata": {},
   "outputs": [
    {
     "ename": "NameError",
     "evalue": "name 'results' is not defined",
     "output_type": "error",
     "traceback": [
      "\u001b[0;31m---------------------------------------------------------------------------\u001b[0m",
      "\u001b[0;31mNameError\u001b[0m                                 Traceback (most recent call last)",
      "Cell \u001b[0;32mIn[2], line 19\u001b[0m\n\u001b[1;32m     16\u001b[0m \u001b[39mfor\u001b[39;00m i, param \u001b[39min\u001b[39;00m \u001b[39menumerate\u001b[39m(parameters):\n\u001b[1;32m     17\u001b[0m     \u001b[39m# If the parameter is not from the first four, there's no coarse value\u001b[39;00m\n\u001b[1;32m     18\u001b[0m     \u001b[39mif\u001b[39;00m param \u001b[39min\u001b[39;00m [\u001b[39m'\u001b[39m\u001b[39msst_w0\u001b[39m\u001b[39m'\u001b[39m, \u001b[39m'\u001b[39m\u001b[39msst_ampa_gain\u001b[39m\u001b[39m'\u001b[39m, \u001b[39m'\u001b[39m\u001b[39msst_ampa_tau\u001b[39m\u001b[39m'\u001b[39m, \u001b[39m'\u001b[39m\u001b[39msst_leak\u001b[39m\u001b[39m'\u001b[39m]:\n\u001b[0;32m---> 19\u001b[0m         unique_coarse_values \u001b[39m=\u001b[39m \u001b[39mset\u001b[39m([r[\u001b[39m0\u001b[39m][param][\u001b[39m0\u001b[39m] \u001b[39mfor\u001b[39;00m r \u001b[39min\u001b[39;00m results \u001b[39mif\u001b[39;00m param \u001b[39min\u001b[39;00m r[\u001b[39m0\u001b[39m]])\n\u001b[1;32m     21\u001b[0m         \u001b[39mfor\u001b[39;00m j, coarse_value \u001b[39min\u001b[39;00m \u001b[39menumerate\u001b[39m(unique_coarse_values):\n\u001b[1;32m     22\u001b[0m             \u001b[39m# Filter the results for the current coarse value\u001b[39;00m\n\u001b[1;32m     23\u001b[0m             filtered_results \u001b[39m=\u001b[39m [(r[\u001b[39m0\u001b[39m][param][\u001b[39m1\u001b[39m], r[\u001b[39m1\u001b[39m]) \u001b[39mfor\u001b[39;00m r \u001b[39min\u001b[39;00m results \u001b[39mif\u001b[39;00m param \u001b[39min\u001b[39;00m r[\u001b[39m0\u001b[39m] \u001b[39mand\u001b[39;00m r[\u001b[39m0\u001b[39m][param][\u001b[39m0\u001b[39m] \u001b[39m==\u001b[39m coarse_value]\n",
      "\u001b[0;31mNameError\u001b[0m: name 'results' is not defined"
     ]
    },
    {
     "data": {
      "image/png": "[encoded data removed]",
      "text/plain": [
       "<Figure size 1500x1000 with 6 Axes>"
      ]
     },
     "metadata": {},
     "output_type": "display_data"
    }
   ],
   "source": [
    "import matplotlib.pyplot as plt\n",
    "\n",
    "# Parameters for which you want to create subplots\n",
    "parameters = ['sst_w0', 'sst_ampa_gain', 'sst_ampa_tau', 'sst_leak', 'input_sst', 'pc_sst']\n",
    "\n",
    "# Define the number of subplots (2 rows and 3 columns)\n",
    "fig, axes = plt.subplots(2, 3, figsize=(15, 10))\n",
    "\n",
    "# Flatten the axes for easy iteration\n",
    "axes = axes.flatten()\n",
    "\n",
    "# Define marker shapes\n",
    "markers = ['o', 's', 'v', '^', '<', '>']\n",
    "\n",
    "# Iterate through each parameter and create subplots\n",
    "for i, param in enumerate(parameters):\n",
    "    # If the parameter is not from the first four, there's no coarse value\n",
    "    if param in ['sst_w0', 'sst_ampa_gain', 'sst_ampa_tau', 'sst_leak']:\n",
    "        unique_coarse_values = set([r[0][param][0] for r in results if param in r[0]])\n",
    "\n",
    "        for j, coarse_value in enumerate(unique_coarse_values):\n",
    "            # Filter the results for the current coarse value\n",
    "            filtered_results = [(r[0][param][1], r[1]) for r in results if param in r[0] and r[0][param][0] == coarse_value]\n",
    "\n",
    "            # Separate the fine values and the slopes\n",
    "            fine_values, slopes = zip(*filtered_results)\n",
    "\n",
    "            # Plot the data using different marker shapes for each coarse value\n",
    "            axes[i].scatter(fine_values, slopes, label=f'Coarse value: {coarse_value}', marker=markers[j % len(markers)])\n",
    "    else:\n",
    "        # If the parameter is 'input_sst' or 'pc_sst', plot them directly\n",
    "        values, slopes = zip(*[(r[0][param], r[1]) for r in results if param in r[0]])\n",
    "\n",
    "        # Plot the data\n",
    "        axes[i].scatter(values, slopes)\n",
    "\n",
    "    axes[i].set_title(f'{param.upper()}')\n",
    "    axes[i].set_xlabel(f'{param} value')\n",
    "    axes[i].set_ylabel('Firing Rate Increase')\n",
    "\n",
    "    # Add a legend to distinguish between different coarse values\n",
    "    if param in ['sst_w0', 'sst_ampa_gain', 'sst_ampa_tau', 'sst_leak']:\n",
    "        axes[i].legend()\n",
    "\n",
    "plt.tight_layout()\n",
    "plt.show()\n"
   ]
  },
  {
   "cell_type": "code",
   "execution_count": null,
   "metadata": {},
   "outputs": [],
   "source": []
  }
 ],
 "metadata": {
  "kernelspec": {
   "display_name": "dynapse2",
   "language": "python",
   "name": "python3"
  },
  "language_info": {
   "codemirror_mode": {
    "name": "ipython",
    "version": 3
   },
   "file_extension": ".py",
   "mimetype": "text/x-python",
   "name": "python",
   "nbconvert_exporter": "python",
   "pygments_lexer": "ipython3",
   "version": "3.10.9"
  },
  "orig_nbformat": 4
 },
 "nbformat": 4,
 "nbformat_minor": 2
}
