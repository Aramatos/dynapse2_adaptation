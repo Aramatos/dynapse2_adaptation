{
 "cells": [
  {
   "cell_type": "code",
   "execution_count": 14,
   "metadata": {},
   "outputs": [],
   "source": [
    "#! usr/bin/python\n",
    "from datetime import datetime\n",
    "import os\n",
    "\n",
    "today = datetime.now()\n",
    "\n",
    "config_path=\"/home/hector/Documents/dynap-se2-scripts/Results/FF_curves/FF_c_\" + today.strftime('%Y%m%d')\n",
    "config_path_2=\"/home/hector/Documents/dynap-se2-scripts/Results/FF_curves_rasters/FF_r_\" + today.strftime('%Y%m%d')\n",
    "\n",
    "\n",
    "if os.path.exists(config_path)==False:\n",
    "    os.mkdir(config_path)\n",
    "\n",
    "\n",
    "\n",
    "if os.path.exists(config_path_2)==False:\n",
    "    os.mkdir(config_path_2)\n",
    "\n",
    "\n",
    "\n",
    "\n",
    "\n"
   ]
  },
  {
   "cell_type": "code",
   "execution_count": null,
   "metadata": {},
   "outputs": [],
   "source": [
    "from operator import mod\n",
    "import math\n",
    "x=257*5\n",
    "\n",
    "print(mod(x,257))\n",
    "print(math.floor(x/257))\n",
    "print(x)"
   ]
  },
  {
   "cell_type": "code",
   "execution_count": 16,
   "metadata": {},
   "outputs": [],
   "source": [
    "board_names=['dev_board']\n",
    "date_label = datetime.today().strftime('%Y-%m-%d')\n",
    "time_label = datetime.today().strftime('%H-%M')\n",
    "tname = \"EI_persistancy_LastSpike\"\n",
    "\n",
    "dir_path = f\"./data/board_{'-'.join(board_names)}/{date_label}/{tname}/{time_label}\"\n",
    "config_path = f\"{dir_path}/config\"\n",
    "imgdir = f\"board_{'-'.join(board_names)}/{date_label}/{tname}/{time_label}\"\n",
    "os.makedirs(f\"{config_path}\",exist_ok=True)"
   ]
  }
 ],
 "metadata": {
  "kernelspec": {
   "display_name": "Python 3.10.6 ('dynapse2')",
   "language": "python",
   "name": "python3"
  },
  "language_info": {
   "codemirror_mode": {
    "name": "ipython",
    "version": 3
   },
   "file_extension": ".py",
   "mimetype": "text/x-python",
   "name": "python",
   "nbconvert_exporter": "python",
   "pygments_lexer": "ipython3",
   "version": "3.10.6"
  },
  "orig_nbformat": 4,
  "vscode": {
   "interpreter": {
    "hash": "15b4f91cdcb30e098a1a37dce1d4a95781d613201138da9c18acdd26dce7a5c1"
   }
  }
 },
 "nbformat": 4,
 "nbformat_minor": 2
}
