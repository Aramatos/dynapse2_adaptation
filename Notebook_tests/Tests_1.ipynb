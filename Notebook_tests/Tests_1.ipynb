{
 "cells": [
  {
   "cell_type": "code",
   "execution_count": 2,
   "metadata": {},
   "outputs": [
    {
     "data": {
      "text/plain": [
       "<matplotlib.collections.PolyCollection at 0x7ff4921024c0>"
      ]
     },
     "execution_count": 2,
     "metadata": {},
     "output_type": "execute_result"
    },
    {
     "data": {
      "image/png": "[encoded data removed]",
      "text/plain": [
       "<Figure size 432x288 with 1 Axes>"
      ]
     },
     "metadata": {
      "needs_background": "light"
     },
     "output_type": "display_data"
    }
   ],
   "source": [
    "import numpy as np\n",
    "import matplotlib.pyplot as plt\n",
    "FF_in=np.load('./Results/FF_in.npy')\n",
    "FF_out_PC=np.load('./Results/FF_out_PC.npy')\n",
    "\n",
    "plt.figure()\n",
    "mean_PC=np.mean(FF_out_PC,axis=0)\n",
    "std_PC=np.std(FF_out_PC,axis=0)\n",
    "plt.plot(FF_in,mean_PC,c='cadetblue')\n",
    "plt.fill_between(FF_in, mean_PC - std_PC/2, mean_PC + std_PC/2,\n",
    "color='cadetblue', alpha=0.2)\n"
   ]
  },
  {
   "cell_type": "code",
   "execution_count": 9,
   "metadata": {},
   "outputs": [
    {
     "name": "stdout",
     "output_type": "stream",
     "text": [
      "[[10.2, 2.4, 3.213]]\n",
      "[[10.2, 2.4, 3.213], [20.3, 4.5, 9.41]]\n"
     ]
    },
    {
     "data": {
      "text/plain": [
       "array([15.25,  3.45,  6.31])"
      ]
     },
     "execution_count": 9,
     "metadata": {},
     "output_type": "execute_result"
    }
   ],
   "source": [
    "x=[10.2,2.4,3.213]\n",
    "y=[20.3,4.5,9.41]\n",
    "b=[]\n",
    "b.append(x)\n",
    "print(b)\n",
    "b.append(y)\n",
    "print(b)\n",
    "np.round(np.mean(b,axis=0),2)"
   ]
  },
  {
   "cell_type": "code",
   "execution_count": 1,
   "metadata": {},
   "outputs": [
    {
     "ename": "ModuleNotFoundError",
     "evalue": "No module named 'sklearn'",
     "output_type": "error",
     "traceback": [
      "\u001b[0;31m---------------------------------------------------------------------------\u001b[0m",
      "\u001b[0;31mModuleNotFoundError\u001b[0m                       Traceback (most recent call last)",
      "\u001b[1;32m/home/hector/Documents/dynap-se2-scripts/Tests_1.ipynb Cell 3\u001b[0m in \u001b[0;36m<cell line: 10>\u001b[0;34m()\u001b[0m\n\u001b[1;32m      <a href='vscode-notebook-cell:/home/hector/Documents/dynap-se2-scripts/Tests_1.ipynb#ch0000002?line=4'>5</a>\u001b[0m \u001b[39m# Defining 3-dimensional hyperparameter space as a Python dictionary\u001b[39;00m\n\u001b[1;32m      <a href='vscode-notebook-cell:/home/hector/Documents/dynap-se2-scripts/Tests_1.ipynb#ch0000002?line=5'>6</a>\u001b[0m hyperparameter_space \u001b[39m=\u001b[39m {\u001b[39m'\u001b[39m\u001b[39mmax_depth\u001b[39m\u001b[39m'\u001b[39m:[\u001b[39m2\u001b[39m,\u001b[39m3\u001b[39m,\u001b[39m4\u001b[39m,\u001b[39m6\u001b[39m,\u001b[39m8\u001b[39m,\u001b[39m10\u001b[39m,\u001b[39m12\u001b[39m,\u001b[39m15\u001b[39m,\u001b[39m20\u001b[39m], \n\u001b[1;32m      <a href='vscode-notebook-cell:/home/hector/Documents/dynap-se2-scripts/Tests_1.ipynb#ch0000002?line=6'>7</a>\u001b[0m                         \u001b[39m'\u001b[39m\u001b[39mmin_samples_leaf\u001b[39m\u001b[39m'\u001b[39m:[\u001b[39m1\u001b[39m,\u001b[39m2\u001b[39m,\u001b[39m4\u001b[39m,\u001b[39m6\u001b[39m,\u001b[39m8\u001b[39m,\u001b[39m10\u001b[39m,\u001b[39m20\u001b[39m,\u001b[39m30\u001b[39m],\n\u001b[1;32m      <a href='vscode-notebook-cell:/home/hector/Documents/dynap-se2-scripts/Tests_1.ipynb#ch0000002?line=7'>8</a>\u001b[0m                         \u001b[39m'\u001b[39m\u001b[39mmin_samples_split\u001b[39m\u001b[39m'\u001b[39m:[\u001b[39m1\u001b[39m,\u001b[39m2\u001b[39m,\u001b[39m3\u001b[39m,\u001b[39m4\u001b[39m,\u001b[39m5\u001b[39m,\u001b[39m6\u001b[39m,\u001b[39m8\u001b[39m,\u001b[39m10\u001b[39m]}\n\u001b[0;32m---> <a href='vscode-notebook-cell:/home/hector/Documents/dynap-se2-scripts/Tests_1.ipynb#ch0000002?line=9'>10</a>\u001b[0m \u001b[39mfrom\u001b[39;00m \u001b[39msklearn\u001b[39;00m\u001b[39m.\u001b[39;00m\u001b[39mmodel_selection\u001b[39;00m \u001b[39mimport\u001b[39;00m RandomizedSearchCV\n\u001b[1;32m     <a href='vscode-notebook-cell:/home/hector/Documents/dynap-se2-scripts/Tests_1.ipynb#ch0000002?line=10'>11</a>\u001b[0m rs \u001b[39m=\u001b[39m RandomizedSearchCV(dtclf, param_distributions\u001b[39m=\u001b[39mhyperparameter_space,\n\u001b[1;32m     <a href='vscode-notebook-cell:/home/hector/Documents/dynap-se2-scripts/Tests_1.ipynb#ch0000002?line=11'>12</a>\u001b[0m                         n_iter\u001b[39m=\u001b[39m\u001b[39m10\u001b[39m, scoring\u001b[39m=\u001b[39m\u001b[39m\"\u001b[39m\u001b[39maccuracy\u001b[39m\u001b[39m\"\u001b[39m, random_state\u001b[39m=\u001b[39m\u001b[39m0\u001b[39m,\n\u001b[1;32m     <a href='vscode-notebook-cell:/home/hector/Documents/dynap-se2-scripts/Tests_1.ipynb#ch0000002?line=12'>13</a>\u001b[0m                         n_jobs\u001b[39m=\u001b[39m\u001b[39m-\u001b[39m\u001b[39m1\u001b[39m, cv\u001b[39m=\u001b[39m\u001b[39m10\u001b[39m, return_train_score\u001b[39m=\u001b[39m\u001b[39mTrue\u001b[39;00m)\n\u001b[1;32m     <a href='vscode-notebook-cell:/home/hector/Documents/dynap-se2-scripts/Tests_1.ipynb#ch0000002?line=14'>15</a>\u001b[0m rs\u001b[39m.\u001b[39mfit(X_train, y_train)\n",
      "\u001b[0;31mModuleNotFoundError\u001b[0m: No module named 'sklearn'"
     ]
    }
   ],
   "source": [
    "# Let's measure execution time too\n",
    "import time\n",
    "start = time.time()\n",
    "\n",
    "# Defining 3-dimensional hyperparameter space as a Python dictionary\n",
    "hyperparameter_space = {'max_depth':[2,3,4,6,8,10,12,15,20], \n",
    "                        'min_samples_leaf':[1,2,4,6,8,10,20,30],\n",
    "                        'min_samples_split':[1,2,3,4,5,6,8,10]}\n",
    "\n",
    "from sklearn.model_selection import RandomizedSearchCV\n",
    "rs = RandomizedSearchCV(dtclf, param_distributions=hyperparameter_space,\n",
    "                        n_iter=10, scoring=\"accuracy\", random_state=0,\n",
    "                        n_jobs=-1, cv=10, return_train_score=True)\n",
    "\n",
    "rs.fit(X_train, y_train)\n",
    "print(\"Optimal hyperparameter combination:\", rs.best_params_)\n",
    "print()\n",
    "print(\"Mean cross-validated training accuracy score:\",\n",
    "      rs.best_score_)\n",
    "rs.best_estimator_.fit(X_train, y_train)\n",
    "y_pred = rs.best_estimator_.predict(X_test) # Predictions\n",
    "y_true = y_test # True values\n",
    "\n",
    "print(\"Test accuracy:\", np.round(accuracy_score(y_true, y_pred), 2))\n",
    "cf_matrix = confusion_matrix(y_true, y_pred)\n",
    "import seaborn as sns\n",
    "import matplotlib.pyplot as plt\n",
    "sns.heatmap(cf_matrix, annot=True, cmap='Blues')\n",
    "plt.xlabel('Predicted')\n",
    "plt.ylabel('True')\n",
    "\n",
    "end = time.time()\n",
    "diff = end - start\n",
    "print('Execution time of Random Search (in Seconds):', diff)\n",
    "print()"
   ]
  },
  {
   "cell_type": "code",
   "execution_count": 4,
   "metadata": {},
   "outputs": [
    {
     "name": "stdout",
     "output_type": "stream",
     "text": [
      "[0, 28465.131313131315, 4964.848484848485, 7281.777777777778, 8605.737373737375, 29789.09090909091, 330.989898989899, 12908.606060606062, 2978.909090909091, 3309.8989898989903, 9929.69696969697, 21183.353535353537]\n"
     ]
    }
   ],
   "source": [
    "import numpy as np\n",
    "finess=100\n",
    "x=[0]*12\n",
    "x[1]=np.linspace(0,32768,finess)[np.random.randint(0,finess)]\n",
    "x[2]=np.linspace(0,32768,finess)[np.random.randint(0,finess)]\n",
    "x[3]=np.linspace(0,32768,finess)[np.random.randint(0,finess)]\n",
    "x[4]=np.linspace(0,32768,finess)[np.random.randint(0,finess)]\n",
    "x[5]=np.linspace(0,32768,finess)[np.random.randint(0,finess)]\n",
    "x[6]=np.linspace(0,32768,finess)[np.random.randint(0,finess)]\n",
    "x[7]=np.linspace(0,32768,finess)[np.random.randint(0,finess)]\n",
    "x[8]=np.linspace(0,32768,finess)[np.random.randint(0,finess)]\n",
    "x[9]=np.linspace(0,32768,finess)[np.random.randint(0,finess)]\n",
    "x[10]=np.linspace(0,32768,finess)[np.random.randint(0,finess)]\n",
    "x[11]=np.linspace(0,32768,finess)[np.random.randint(0,finess)]\n",
    "\n",
    "print(x)"
   ]
  },
  {
   "cell_type": "code",
   "execution_count": 52,
   "metadata": {},
   "outputs": [
    {
     "name": "stdout",
     "output_type": "stream",
     "text": [
      "[[  0 178]\n",
      " [  2 254]\n",
      " [  2  26]\n",
      " [  4 173]\n",
      " [  3  22]\n",
      " [  3 139]\n",
      " [  4  80]\n",
      " [  0 195]\n",
      " [  2 250]\n",
      " [  2 124]\n",
      " [  2  65]]\n",
      "[['PC_w0', 'PC_w1', 'PC_w2', 'PC_AG', 'PC_NG', 'PC_SG', 'PV_w0', 'PV_w1', 'PV_w2', 'PV_AG', 'PV_GG'], array([[  0, 178],\n",
      "       [  2, 254],\n",
      "       [  2,  26],\n",
      "       [  4, 173],\n",
      "       [  3,  22],\n",
      "       [  3, 139],\n",
      "       [  4,  80],\n",
      "       [  0, 195],\n",
      "       [  2, 250],\n",
      "       [  2, 124],\n",
      "       [  2,  65]])]\n",
      "[['PC_w0', 'PC_w1', 'PC_w2', 'PC_AG', 'PC_NG', 'PC_SG', 'PV_w0', 'PV_w1', 'PV_w2', 'PV_AG', 'PV_GG'], array([[  0, 178],\n",
      "       [  2, 254],\n",
      "       [  2,  26],\n",
      "       [  4, 173],\n",
      "       [  3,  22],\n",
      "       [  3, 139],\n",
      "       [  4,  80],\n",
      "       [  0, 195],\n",
      "       [  2, 250],\n",
      "       [  2, 124],\n",
      "       [  2,  65]]), array([[  0, 178],\n",
      "       [  2, 254],\n",
      "       [  2,  26],\n",
      "       [  4, 173],\n",
      "       [  3,  22],\n",
      "       [  3, 139],\n",
      "       [  4,  80],\n",
      "       [  0, 195],\n",
      "       [  2, 250],\n",
      "       [  2, 124],\n",
      "       [  2,  65]])]\n"
     ]
    }
   ],
   "source": [
    "\n",
    "x=np.random.randint(0,5,11)\n",
    "y=np.random.randint(0,255,11)\n",
    "\n",
    "names=['PC_w0','PC_w1','PC_w2','PC_AG','PC_NG','PC_SG','PV_w0','PV_w1','PV_w2','PV_AG','PV_GG']\n",
    "\n",
    "\n",
    "values=np.transpose(np.array([x,y]))\n",
    "\n",
    "print(values)\n",
    "\n",
    "\n",
    "s=[[],[]]\n",
    "s[0]=names\n",
    "s[1]=values\n",
    "print(s)\n",
    "s.append(values)\n",
    "print(s)\n",
    "\n"
   ]
  },
  {
   "cell_type": "code",
   "execution_count": 55,
   "metadata": {},
   "outputs": [
    {
     "data": {
      "text/plain": [
       "array([ 2, 26])"
      ]
     },
     "execution_count": 55,
     "metadata": {},
     "output_type": "execute_result"
    }
   ],
   "source": []
  },
  {
   "cell_type": "code",
   "execution_count": 21,
   "metadata": {},
   "outputs": [],
   "source": [
    "import numpy as np\n",
    "def striated_gen(virtual_group,rest_time,rate):\n",
    "    duration1=100000\n",
    "    duration2=100000\n",
    "    rest_time=100000\n",
    "    rate_ms=rate/1e6\n",
    "    events=int(rate_ms*duration1)\n",
    "    id_list=[0]*events\n",
    "    times_stamps_1=list(np.linspace(0, duration1, events))\n",
    "    times_stamps_2=list(np.linspace(duration1+rest_time,duration2+rest_time+duration1,events))\n",
    "    times_stamps=np.asanyarray(times_stamps_1+times_stamps_2,dtype='int')\n",
    "    events=isi_gen(virtual_group,id_list,times_stamps)\n",
    "    return events\n"
   ]
  },
  {
   "cell_type": "code",
   "execution_count": null,
   "metadata": {},
   "outputs": [],
   "source": [
    "striated_gen()"
   ]
  },
  {
   "cell_type": "code",
   "execution_count": 6,
   "metadata": {},
   "outputs": [
    {
     "name": "stdout",
     "output_type": "stream",
     "text": [
      "0.0001\n",
      "25.0\n"
     ]
    }
   ],
   "source": [
    "rate=100\n",
    "duration1=250000\n",
    "rate_ms=rate/1e6\n",
    "print(rate_ms)#events per milli second\n",
    "print(rate_ms*duration1)\n"
   ]
  },
  {
   "cell_type": "code",
   "execution_count": null,
   "metadata": {},
   "outputs": [],
   "source": []
  },
  {
   "cell_type": "code",
   "execution_count": null,
   "metadata": {},
   "outputs": [],
   "source": []
  }
 ],
 "metadata": {
  "kernelspec": {
   "display_name": "Python 3.10.6 ('dynapse2')",
   "language": "python",
   "name": "python3"
  },
  "language_info": {
   "codemirror_mode": {
    "name": "ipython",
    "version": 3
   },
   "file_extension": ".py",
   "mimetype": "text/x-python",
   "name": "python",
   "nbconvert_exporter": "python",
   "pygments_lexer": "ipython3",
   "version": "3.10.6"
  },
  "orig_nbformat": 4,
  "vscode": {
   "interpreter": {
    "hash": "15b4f91cdcb30e098a1a37dce1d4a95781d613201138da9c18acdd26dce7a5c1"
   }
  }
 },
 "nbformat": 4,
 "nbformat_minor": 2
}
