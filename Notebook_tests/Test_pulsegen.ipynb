{
 "cells": [
  {
   "cell_type": "code",
   "execution_count": null,
   "metadata": {},
   "outputs": [],
   "source": [
    "events = []\n",
    "ids = virtual_group.get_ids()\n",
    "for n, t in zip(neurons, timestamps):\n",
    "    for chip_core, tags in virtual_group.get_destinations().items():\n",
    "        events += [(ids[n], tags[n], chip_core, int(t))]"
   ]
  },
  {
   "cell_type": "code",
   "execution_count": 25,
   "metadata": {},
   "outputs": [
    {
     "name": "stdout",
     "output_type": "stream",
     "text": [
      "10\n",
      "[0, 0, 0, 0, 0, 0, 0, 0, 0, 0]\n",
      "10\n",
      "[0.0, 111111.11111111111, 222222.22222222222, 333333.3333333333, 444444.44444444444, 555555.5555555555, 666666.6666666666, 777777.7777777778, 888888.8888888889, 1000000.0]\n"
     ]
    }
   ],
   "source": [
    "\n",
    "import numpy as np\n",
    "input_duration=1000000\n",
    "if input_duration >= 1e6:\n",
    "    rate=10#in hz\n",
    "    rate_ms=float(10/1e6)\n",
    "    events=int(rate_ms*input_duration)\n",
    "    id_list=list(range(1))*events\n",
    "    print(len(id_list))\n",
    "    print(id_list)\n",
    "    times_stamps=list(np.linspace(0, input_duration, events))\n",
    "    print(len(times_stamps))\n",
    "    print(times_stamps)\n",
    "else:\n",
    "    print('you have irked the code, rethink your choices')\n",
    "    pass\n",
    "    "
   ]
  },
  {
   "cell_type": "code",
   "execution_count": null,
   "metadata": {},
   "outputs": [],
   "source": []
  }
 ],
 "metadata": {
  "kernelspec": {
   "display_name": "Python 3.10.6 ('dynapse2')",
   "language": "python",
   "name": "python3"
  },
  "language_info": {
   "codemirror_mode": {
    "name": "ipython",
    "version": 3
   },
   "file_extension": ".py",
   "mimetype": "text/x-python",
   "name": "python",
   "nbconvert_exporter": "python",
   "pygments_lexer": "ipython3",
   "version": "3.10.6"
  },
  "orig_nbformat": 4,
  "vscode": {
   "interpreter": {
    "hash": "15b4f91cdcb30e098a1a37dce1d4a95781d613201138da9c18acdd26dce7a5c1"
   }
  }
 },
 "nbformat": 4,
 "nbformat_minor": 2
}
