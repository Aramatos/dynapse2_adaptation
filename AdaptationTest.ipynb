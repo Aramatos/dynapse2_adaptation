{
 "cells": [
  {
   "cell_type": "markdown",
   "metadata": {},
   "source": [
    "<font size=8> Network Tests\n"
   ]
  },
  {
   "cell_type": "code",
   "execution_count": 6,
   "metadata": {},
   "outputs": [],
   "source": [
    "#Common Python Packages\n",
    "from pickle import TRUE\n",
    "import time\n",
    "import sys\n",
    "import os\n",
    "import pickle\n",
    "import numpy as np\n",
    "import matplotlib.pyplot as plt\n",
    "\n",
    "\n",
    "#dynapse2 spikegen imports\n",
    "from lib.dynapse2_util import *\n",
    "from lib.dynapse2_network import Network\n",
    "from lib.dynapse2_spikegen import send_events,get_fpga_time, send_virtual_events, poisson_gen, isi_gen,regular_gen\n",
    "from lib.dynapse2_raster import *\n",
    "from lib.dynapse2_obj import *\n",
    "\n",
    "#Statistics imports\n",
    "from scipy.optimize import curve_fit\n",
    "from scipy.signal import savgol_filter\n",
    "from scipy.signal import butter, filtfilt\n",
    "from sklearn.linear_model import LinearRegression\n",
    "from itertools import product\n",
    "#my imports\n",
    "from adaptation import pc_single,ff,pc_pv_sst,ff_network\n",
    "from adaptation_lib.spike_stats import *\n",
    "from adaptation_lib.dynapse_setup import *\n",
    "from adaptation_lib.graphing import *\n",
    "from configs import neuron_configs_bio\n",
    "\n",
    "\n"
   ]
  },
  {
   "cell_type": "code",
   "execution_count": null,
   "metadata": {},
   "outputs": [],
   "source": [
    "[board,profile_path,number_of_chips]=obtain_board()"
   ]
  },
  {
   "cell_type": "markdown",
   "metadata": {},
   "source": [
    "<font size=7> Manual Tuning\n"
   ]
  },
  {
   "cell_type": "code",
   "execution_count": null,
   "metadata": {},
   "outputs": [],
   "source": [
    "neuron_config=neuron_configs_bio.config()\n",
    "\n",
    "neuron_config['PC_W0']=[4,100]# PC input\n",
    "neuron_config['PC_W1']=[1,100]#recurrent PC to PC\n",
    "neuron_config['PC_W2']=[2,100]#PV shunt inhibition to PC\n",
    "neuron_config['PC_W3']=[2,100]#SST gaba inhibition to PC\n",
    "\n",
    "neuron_config['PV_W1']=[1,100]#PC_to PV\n",
    "neuron_config['PV_W2']=[4,250]#PV gaba inhibition to PV\n",
    "neuron_config['PV_W3']=[2,100]#SST gaba inhibition to PV\n",
    "\n",
    "neuron_config['SST_W0']=[4,100]#input\n",
    "neuron_config['SST_W1']=[4,200]#PC to SST\n",
    "neuron_config['SST_W2']=[0,50]#PV shunt inhibition to SST\n",
    "\n",
    "neuron_config['nvn']=15\n",
    "neuron_config['pcn']=100\n",
    "neuron_config['pvn']=20\n",
    "neuron_config['sstn']=15\n",
    "\n",
    "neuron_config['SST_AMPA_GAIN']=[2,25]\n",
    "neuron_config['SST_AMPA_TAU']=[1,10]\n",
    "neuron_config['SST_LEAK']=[1,30]\n",
    "\n",
    "neuron_config['Input_PC']=.3\n",
    "neuron_config['Input_PV']=.11#.2\n",
    "neuron_config['Input_SST']=.1#.1#.1\n",
    "\n",
    "neuron_config['PC_PC']=.2\n",
    "neuron_config['PC_PV']=.15#.1\n",
    "neuron_config['PC_SST']=.3#.1\n",
    "\n",
    "neuron_config['PV_PV']=.2#.2\n",
    "neuron_config['PV_PC']=.2#0\n",
    "neuron_config['PV_SST']=.2#.2\n",
    "\n",
    "neuron_config['SST_PC']=.3#.1\n",
    "neuron_config['SST_PV']=.2#.2\n",
    "\n",
    "neuron_config['PC_Adaptation']=True\n",
    "neuron_config['duration']=15\n",
    "neuron_config['input_type']='Regular'\n",
    "neuron_config['in_freq']=20\n",
    "neuron_config['Freq_FI_Range']=[50,100,350,500]\n",
    "neuron_config['overtake_test']=True\n",
    "\n",
    "ff_network.ff_network(board=board, profile_path=profile_path, number_of_chips=number_of_chips,neuron_config=neuron_config)"
   ]
  }
 ],
 "metadata": {
  "kernelspec": {
   "display_name": "dynapse2",
   "language": "python",
   "name": "python3"
  },
  "language_info": {
   "codemirror_mode": {
    "name": "ipython",
    "version": 3
   },
   "file_extension": ".py",
   "mimetype": "text/x-python",
   "name": "python",
   "nbconvert_exporter": "python",
   "pygments_lexer": "ipython3",
   "version": "3.10.9"
  },
  "orig_nbformat": 4
 },
 "nbformat": 4,
 "nbformat_minor": 2
}
