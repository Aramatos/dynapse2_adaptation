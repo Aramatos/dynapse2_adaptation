{
 "cells": [
  {
   "cell_type": "markdown",
   "metadata": {},
   "source": [
    "<font size=8> Network Tests\n"
   ]
  },
  {
   "cell_type": "code",
   "execution_count": 1,
   "metadata": {},
   "outputs": [],
   "source": [
    "#Common Python Packages\n",
    "from pickle import TRUE\n",
    "import pickle\n",
    "import os\n",
    "import numpy as np\n",
    "import seaborn as sns\n",
    "import matplotlib.pyplot as plt\n",
    "\n",
    "#dynapse2 spikegen imports\n",
    "from lib.dynapse2_util import *\n",
    "from lib.dynapse2_network import Network\n",
    "from lib.dynapse2_spikegen import send_events,get_fpga_time, send_virtual_events, poisson_gen, isi_gen,regular_gen\n",
    "from lib.dynapse2_raster import *\n",
    "from lib.dynapse2_obj import *\n",
    "from lib.dynapse2_raster import *\n",
    "\n",
    "#Statistics imports\n",
    "from scipy.optimize import curve_fit\n",
    "from scipy.signal import savgol_filter\n",
    "from scipy.signal import butter, filtfilt\n",
    "from sklearn.linear_model import LinearRegression\n",
    "from scipy.stats import linregress\n",
    "from itertools import product\n",
    "\n",
    "#my imports\n",
    "from adaptation import pc_single,ff,pc_pv_sst,ff_network\n",
    "from adaptation_lib.spike_stats import *\n",
    "from adaptation_lib.dynapse_setup import *\n",
    "from adaptation_lib.graphing import *\n",
    "from configs import neuron_configs_bio\n",
    "\n",
    "# Determine the user's home directory\n",
    "home_directory = os.path.expanduser(\"~\")\n",
    "# Path to the Documents directory\n",
    "documents_path = os.path.join(home_directory, \"Documents\")\n",
    "# Path to the dynapse-se2-data directory within Documents\n",
    "save_directory_path = os.path.join(documents_path, \"dynapse-se2-data\")\n",
    "# Path to the data\n",
    "data_type_path = os.path.join(save_directory_path, \"network_heatmaps\")"
   ]
  },
  {
   "cell_type": "code",
   "execution_count": 2,
   "metadata": {},
   "outputs": [
    {
     "name": "stdout",
     "output_type": "stream",
     "text": [
      "[<samna.device.DeviceInfo object at 0x7f17085bf670>]\n"
     ]
    }
   ],
   "source": [
    "[board,profile_path,number_of_chips]=obtain_board()"
   ]
  },
  {
   "cell_type": "markdown",
   "metadata": {},
   "source": [
    "<font size=8> SWEEP MAIN CONFIG"
   ]
  },
  {
   "cell_type": "code",
   "execution_count": 181,
   "metadata": {},
   "outputs": [],
   "source": [
    "neuron_config=neuron_configs_bio.config()\n",
    "#remove SST connections to focus in th eEI balance structure\n",
    "\n",
    "#input frequencies and conneciton ratiors\n",
    "neuron_config['PV_SST']=0\n",
    "neuron_config['SST_PC']=0\n",
    "neuron_config['SST_PV']=0\n",
    "neuron_config['Input_SST']=0\n",
    "neuron_config['PC_SST']=0\n",
    "neuron_config['PC_Adaptation']=True\n",
    "\n",
    "nvn=15\n",
    "pvn=20\n",
    "pcn=100\n",
    "sstn=0\n",
    "bin_size=0.060\n",
    "duration=1"
   ]
  },
  {
   "cell_type": "markdown",
   "metadata": {},
   "source": [
    "<font size=6> Probe"
   ]
  },
  {
   "cell_type": "code",
   "execution_count": null,
   "metadata": {},
   "outputs": [],
   "source": [
    "neuron_config['Input_Frequency']=1\n",
    "neuron_config['PC_PC']=.1\n",
    "neuron_config['PC_PV']=.1\n",
    "neuron_config['input_type']='Poisson'\n",
    "\n",
    "[output_events,test_config]=pc_pv_sst.pc_pv_sst(board=board, profile_path=profile_path, number_of_chips=number_of_chips,neuron_config=neuron_config)\n",
    "raster_data=population_data(output_events, nvn, pcn, pvn, sstn)\n",
    "rates = spike_count(output_events=output_events)\n",
    "PC_rates, _, _ = pop_rates(rates, test_config)\n",
    "cv_temp, synchrony_temp = run_dynamic_anal(output_events, test_config)\n",
    "\n",
    "\n",
    "plot_network_raster_psth(raster_data,duration, bin_size)"
   ]
  },
  {
   "cell_type": "code",
   "execution_count": 10,
   "metadata": {},
   "outputs": [],
   "source": [
    "def run_sweep(sweep_range_1, sweep_range_2, config_var_name_1, config_var_name_2, sweep_name, save_name, data_type_path, neuron_config):\n",
    "    #create the dapa path with the test name\n",
    "    data_path=os.path.join(data_type_path, f\"{sweep_name}.npy\")\n",
    "\n",
    "    #obtain previous data if it exists if not create a new dictionary with the data\n",
    "    if os.path.exists(data_path):\n",
    "        simulation_data = np.load(data_path, allow_pickle=True).item()\n",
    "    else:\n",
    "        simulation_data = {\n",
    "            \"cv_values_pc\": [np.nan] * len(sweep_range_1) * len(sweep_range_2),\n",
    "            \"cv_values_pv\": [np.nan] * len(sweep_range_1) * len(sweep_range_2),\n",
    "            \"synchrony_values_pc\": [np.nan] * len(sweep_range_1) * len(sweep_range_2),\n",
    "            \"synchrony_values_pv\": [np.nan] * len(sweep_range_1) * len(sweep_range_2),\n",
    "            \"mean_pc_rates\": [np.nan] * len(sweep_range_1) * len(sweep_range_2),\n",
    "            config_var_name_1: sweep_range_1,\n",
    "            config_var_name_2: sweep_range_2\n",
    "        }\n",
    "    \n",
    "    simulation_data['input_frequency'] =sweep_range_1\n",
    "    simulation_data['connection_ratios'] =sweep_range_2   \n",
    "\n",
    "\n",
    "    #run the test for each value in the sweep range\n",
    "    for value_1 in simulation_data[config_var_name_1]:\n",
    "        neuron_config[config_var_name_1] = np.round(value_1,2)\n",
    "        for value_2 in simulation_data[config_var_name_2]:\n",
    "            if contains_nan(simulation_data,config_var_name_1,config_var_name_2,value_1, value_2):\n",
    "                neuron_config[config_var_name_2] = np.round(value_2,2)\n",
    "                try:\n",
    "                    [output_events, test_config] = run_simulation(neuron_config)\n",
    "\n",
    "                    cv_temp, synchrony_temp = run_dynamic_anal(output_events, test_config)\n",
    "\n",
    "                    rates = spike_count(output_events=output_events)\n",
    "                    PC_rates, _, _ = pop_rates(rates, test_config)\n",
    "\n",
    "                    index = len(simulation_data[config_var_name_2]) * list(simulation_data[config_var_name_1]).index(value_1) + list(simulation_data[config_var_name_2]).index(value_2)\n",
    "                    simulation_data[\"cv_values_pc\"][index] = cv_temp[0]\n",
    "                    simulation_data[\"cv_values_pv\"][index] = cv_temp[1]\n",
    "                    simulation_data[\"synchrony_values_pc\"][index] = synchrony_temp[0]\n",
    "                    simulation_data[\"synchrony_values_pv\"][index] = synchrony_temp[1]\n",
    "                    simulation_data[\"mean_pc_rates\"][index] = np.mean(PC_rates)\n",
    "                except timeout_decorator.TimeoutError:\n",
    "                    print(f\"Simulation timed out for {config_var_name_1} {value_1} and {config_var_name_2} {value_2}\")\n",
    "                    index = len(simulation_data[config_var_name_2]) * list(simulation_data[config_var_name_1]).index(value_1) + list(simulation_data[config_var_name_2]).index(value_2)\n",
    "                    simulation_data[\"cv_values_pc\"][index] = np.nan\n",
    "                    simulation_data[\"cv_values_pv\"][index] = np.nan\n",
    "                    simulation_data[\"synchrony_values_pc\"][index] = np.nan\n",
    "                    simulation_data[\"synchrony_values_pv\"][index] = np.nan\n",
    "                    simulation_data[\"mean_pc_rates\"][index] = np.nan\n",
    "                    \n",
    "                np.save(os.path.join(data_type_path, f\"{save_name}.npy\"), simulation_data)\n",
    "\n",
    "\n",
    "    return simulation_data\n",
    "\n",
    "@timeout_decorator.timeout(40)# Set a 5-second timeout\n",
    "def run_simulation(neuron_config):\n",
    "    return pc_pv_sst.pc_pv_sst(\n",
    "        board=board,\n",
    "        profile_path=profile_path,\n",
    "        number_of_chips=number_of_chips,\n",
    "        neuron_config=neuron_config\n",
    "    )"
   ]
  },
  {
   "cell_type": "markdown",
   "metadata": {},
   "source": [
    "<font size=6> Poisson PC PC\n"
   ]
  },
  {
   "cell_type": "code",
   "execution_count": null,
   "metadata": {},
   "outputs": [],
   "source": [
    "sweep_range_1=np.arange(1,31,1)\n",
    "sweep_range_2=np.arange(0,.7,.1)\n",
    "\n",
    "config_var_name_1='input_frequency'\n",
    "neuron_config['input_type']='Poisson'\n",
    "config_var_name_2='PC_PC'\n",
    "sweep_name='EI_sweep_PC_PC_poisson'\n",
    "\n",
    "run_sweep(sweep_range_1, sweep_range_2, config_var_name_1, config_var_name_2, sweep_name,sweep_name, data_type_path, neuron_config)"
   ]
  },
  {
   "cell_type": "markdown",
   "metadata": {},
   "source": [
    "<font size=6> Poisson PC PV\n"
   ]
  },
  {
   "cell_type": "code",
   "execution_count": null,
   "metadata": {},
   "outputs": [],
   "source": [
    "\n",
    "neuron_config['input_type']='Poisson'\n",
    "\n",
    "#input frequencies and conneciton ratiors\n",
    "sweep_range_1=np.arange(1,31,1)\n",
    "sweep_range_2=np.arange(0,.7,.1)\n",
    "config_var_name_1='input_frequency'\n",
    "config_var_name_2='PC_PV'\n",
    "sweep_name='EI_sweep_PC_PV_poisson'\n",
    "\n",
    "run_sweep(sweep_range_1, sweep_range_2, config_var_name_1, config_var_name_2, sweep_name,sweep_name, data_type_path, neuron_config)"
   ]
  },
  {
   "cell_type": "markdown",
   "metadata": {},
   "source": [
    "<font size=6> Regular PC PC\n"
   ]
  },
  {
   "cell_type": "code",
   "execution_count": null,
   "metadata": {},
   "outputs": [],
   "source": [
    "\n",
    "neuron_config['input_type']='Regular'\n",
    "\n",
    "#input frequencies and conneciton ratiors\n",
    "sweep_range_1=np.arange(1,31,1)\n",
    "sweep_range_2=np.arange(0,.7,.1)\n",
    "config_var_name_1='input_frequency'\n",
    "config_var_name_2='PC_PC'\n",
    "sweep_name='EI_sweep_PC_PC_regular'\n",
    "\n",
    "run_sweep(sweep_range_1, sweep_range_2, config_var_name_1, config_var_name_2, sweep_name,sweep_name, data_type_path, neuron_config)"
   ]
  },
  {
   "cell_type": "markdown",
   "metadata": {},
   "source": [
    "<font size=6> Regular PC PV\n"
   ]
  },
  {
   "cell_type": "code",
   "execution_count": 2,
   "metadata": {},
   "outputs": [
    {
     "ename": "NameError",
     "evalue": "name 'neuron_config' is not defined",
     "output_type": "error",
     "traceback": [
      "\u001b[0;31m---------------------------------------------------------------------------\u001b[0m",
      "\u001b[0;31mNameError\u001b[0m                                 Traceback (most recent call last)",
      "\u001b[1;32m/home/hector/Documents/dynap-se2-scripts/Network_heatmaps.ipynb Cell 15\u001b[0m line \u001b[0;36m1\n\u001b[0;32m----> <a href='vscode-notebook-cell:/home/hector/Documents/dynap-se2-scripts/Network_heatmaps.ipynb#X20sZmlsZQ%3D%3D?line=0'>1</a>\u001b[0m neuron_config[\u001b[39m'\u001b[39m\u001b[39minput_type\u001b[39m\u001b[39m'\u001b[39m]\u001b[39m=\u001b[39m\u001b[39m'\u001b[39m\u001b[39mRegular\u001b[39m\u001b[39m'\u001b[39m\n\u001b[1;32m      <a href='vscode-notebook-cell:/home/hector/Documents/dynap-se2-scripts/Network_heatmaps.ipynb#X20sZmlsZQ%3D%3D?line=2'>3</a>\u001b[0m \u001b[39m#input frequencies and conneciton ratiors\u001b[39;00m\n\u001b[1;32m      <a href='vscode-notebook-cell:/home/hector/Documents/dynap-se2-scripts/Network_heatmaps.ipynb#X20sZmlsZQ%3D%3D?line=3'>4</a>\u001b[0m sweep_range_1\u001b[39m=\u001b[39mnp\u001b[39m.\u001b[39marange(\u001b[39m1\u001b[39m,\u001b[39m31\u001b[39m,\u001b[39m1\u001b[39m)\n",
      "\u001b[0;31mNameError\u001b[0m: name 'neuron_config' is not defined"
     ]
    }
   ],
   "source": [
    "\n",
    "neuron_config['input_type']='Regular'\n",
    "\n",
    "#input frequencies and conneciton ratiors\n",
    "sweep_range_1=np.arange(1,31,1)\n",
    "sweep_range_2=np.arange(0,.7,.1)\n",
    "config_var_name_1='input_frequency'\n",
    "config_var_name_2='PC_PV'\n",
    "sweep_name='EI_sweep_PC_PV_regular'\n",
    "\n",
    "run_sweep(sweep_range_1, sweep_range_2, config_var_name_1, config_var_name_2, sweep_name,sweep_name, data_type_path, neuron_config)"
   ]
  }
 ],
 "metadata": {
  "kernelspec": {
   "display_name": "dynapse2",
   "language": "python",
   "name": "python3"
  },
  "language_info": {
   "codemirror_mode": {
    "name": "ipython",
    "version": 3
   },
   "file_extension": ".py",
   "mimetype": "text/x-python",
   "name": "python",
   "nbconvert_exporter": "python",
   "pygments_lexer": "ipython3",
   "version": "3.10.9"
  },
  "orig_nbformat": 4
 },
 "nbformat": 4,
 "nbformat_minor": 2
}
