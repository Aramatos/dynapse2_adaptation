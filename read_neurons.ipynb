{
 "cells": [
  {
   "cell_type": "code",
   "execution_count": 4,
   "metadata": {},
   "outputs": [
    {
     "ename": "FileNotFoundError",
     "evalue": "[Errno 2] No such file or directory: '/pulse_data_core_0_coarse_0.npy'",
     "output_type": "error",
     "traceback": [
      "\u001b[0;31m---------------------------------------------------------------------------\u001b[0m",
      "\u001b[0;31mFileNotFoundError\u001b[0m                         Traceback (most recent call last)",
      "Cell \u001b[0;32mIn[4], line 7\u001b[0m\n\u001b[1;32m      5\u001b[0m \u001b[39m#start from here\u001b[39;00m\n\u001b[1;32m      6\u001b[0m data_path\u001b[39m=\u001b[39m(\u001b[39m'\u001b[39m\u001b[39m/pulse_data_core_0_coarse_0.npy\u001b[39m\u001b[39m'\u001b[39m)\n\u001b[0;32m----> 7\u001b[0m data\u001b[39m=\u001b[39mnp\u001b[39m.\u001b[39;49mload(data_path)\n",
      "File \u001b[0;32m~/.local/lib/python3.10/site-packages/numpy/lib/npyio.py:405\u001b[0m, in \u001b[0;36mload\u001b[0;34m(file, mmap_mode, allow_pickle, fix_imports, encoding, max_header_size)\u001b[0m\n\u001b[1;32m    403\u001b[0m     own_fid \u001b[39m=\u001b[39m \u001b[39mFalse\u001b[39;00m\n\u001b[1;32m    404\u001b[0m \u001b[39melse\u001b[39;00m:\n\u001b[0;32m--> 405\u001b[0m     fid \u001b[39m=\u001b[39m stack\u001b[39m.\u001b[39menter_context(\u001b[39mopen\u001b[39;49m(os_fspath(file), \u001b[39m\"\u001b[39;49m\u001b[39mrb\u001b[39;49m\u001b[39m\"\u001b[39;49m))\n\u001b[1;32m    406\u001b[0m     own_fid \u001b[39m=\u001b[39m \u001b[39mTrue\u001b[39;00m\n\u001b[1;32m    408\u001b[0m \u001b[39m# Code to distinguish from NumPy binary files and pickles.\u001b[39;00m\n",
      "\u001b[0;31mFileNotFoundError\u001b[0m: [Errno 2] No such file or directory: '/pulse_data_core_0_coarse_0.npy'"
     ]
    }
   ],
   "source": [
    "import sys\n",
    "import os\n",
    "import numpy as np\n",
    "from scipy.signal import savgol_filter\n",
    "import matplotlib.pyplot as plt\n",
    "import matplotlib\n",
    "import matplotlib.gridspec as gridspec\n",
    "import matplotlib.patches as mpatches\n",
    "import matplotlib.lines as mlines\n",
    "import matplotlib.ticker as ticker\n",
    "import matplotlib.cm as cm\n",
    "import matplotlib.colors as colors\n",
    "import matplotlib.colorbar as colorbar\n",
    "sys.path.append(os.getcwd() + '/home/hector/Documents/dynapse-se2-data/time_constant_recordings')\n",
    "#start from here\n",
    "data_path=('/pulse_data_core_0_coarse_0.npy')\n",
    "data=np.load(data_path)\n",
    "\n"
   ]
  },
  {
   "cell_type": "code",
   "execution_count": null,
   "metadata": {},
   "outputs": [],
   "source": [
    "\n",
    "def time_constant_extraction(data, full=False, beta=1/0.26, cut_off=15, window_length=51, polyorder=3):\n",
    "    raw_voltage=data[0]*1000\n",
    "    raw_time=data[1]\n",
    "\n",
    "    time_mask = raw_time >= 1.5\n",
    "    time_masked = raw_time[time_mask]\n",
    "    voltage_masked = raw_voltage[time_mask]\n",
    "\n",
    "    sampling_rate = 1 / np.mean(np.diff(time_masked))  # Hz\n",
    "    cutoff_freq = cut_off # Hz\n",
    "    filter_order = 5\n",
    "    nyquist_freq = 0.5 * sampling_rate\n",
    "    cutoff_freq_normalized = cutoff_freq / nyquist_freq\n",
    "    b, a = butter(filter_order, cutoff_freq_normalized, btype='low')\n",
    "    voltage_filtered = filtfilt(b, a, voltage_masked)\n",
    "    peak_index = np.argmax(voltage_filtered)\n",
    "\n",
    "    # Smooth the data and take the derivative\n",
    "    voltage_smooth = savgol_filter(voltage_filtered, window_length, polyorder)\n",
    "    derivative = np.gradient(voltage_smooth)\n",
    "\n",
    "    # Find the start of the decay using the derivative\n",
    "    decay_start_index = None\n",
    "    decay_thresholds = [-2, -1, 0.5, -0.1, -0.02, -0.01, -0.005]\n",
    "\n",
    "    for decay_threshold in decay_thresholds:\n",
    "        for index in range(peak_index, len(derivative) - 1):\n",
    "            if derivative[index] < decay_threshold and derivative[index + 1] < decay_threshold:\n",
    "                decay_start_index = index\n",
    "                break\n",
    "        if decay_start_index is not None:\n",
    "            break\n",
    "\n",
    "    if decay_start_index is None:\n",
    "        # Decay not found, find index closest to 1.6 seconds\n",
    "        target_time = 1.6\n",
    "        closest_index = min(range(len(time_masked)), key=lambda i: abs(time_masked[i] - target_time))\n",
    "        decay_start_index = closest_index\n",
    "\n",
    "    decay_start_index += 1\n",
    "    time_decay = time_masked[decay_start_index:]\n",
    "    time_decay = time_decay - time_decay[0]\n",
    "\n",
    "    I_mem = np.exp((voltage_filtered[decay_start_index:])*beta)\n",
    "    I_mem = I_mem - np.mean(I_mem[-500:])\n",
    "\n",
    "    def exp_func(t, A, tau):\n",
    "        return A* np.exp(-t / tau)\n",
    "\n",
    "    # Initial guess for the parameters (A, tau)\n",
    "    initial_guess = [max(I_mem), 1]\n",
    "    params, params_covariance = curve_fit(exp_func, time_decay, I_mem, p0=initial_guess)\n",
    "\n",
    "    if full:\n",
    "        graph_time_constant_analysis(params, raw_time, raw_voltage, time_masked, voltage_filtered, derivative, decay_threshold, decay_start_index, time_decay, I_mem)\n",
    "    else:\n",
    "        return params[1]\n"
   ]
  },
  {
   "cell_type": "code",
   "execution_count": 5,
   "metadata": {},
   "outputs": [
    {
     "data": {
      "image/png": "[encoded data removed]",
      "text/plain": [
       "<Figure size 750x250 with 1 Axes>"
      ]
     },
     "metadata": {},
     "output_type": "display_data"
    }
   ],
   "source": [
    "import pandas as pd\n",
    "import matplotlib.pyplot as plt\n",
    "import six\n",
    "import numpy as np\n",
    "\n",
    "data_dict = {\n",
    "    'Leakage Parameter': [1, 2, 3],\n",
    "    'Mean Time Constants': [1.123456, 2.234567, 3.345678],\n",
    "    'Standard Deviation': [0.123456, 0.234567, 0.345678]\n",
    "}\n",
    "\n",
    "df = pd.DataFrame(data_dict)\n",
    "\n",
    "# Round to 3 decimal places\n",
    "df['Mean Time Constants'] = df['Mean Time Constants'].round(3)\n",
    "df['Standard Deviation'] = df['Standard Deviation'].round(3)\n",
    "\n",
    "# Format Leakage Parameter\n",
    "df['Leakage Parameter'] = df['Leakage Parameter'].apply(lambda x: f'[0, {x}]')\n",
    "\n",
    "# Rename columns with line breaks for text wrapping\n",
    "df.columns = ['Leakage\\nParameter', 'Mean Time\\nConstants', 'Standard\\nDeviation']\n",
    "\n",
    "def render_mpl_table(data, col_width=3.5, row_height=0.625, font_size=14,\n",
    "                     header_color='#40466e', row_colors=['#f1f1f2', 'w'], edge_color='w',\n",
    "                     bbox=[0, 0, 1, 1], header_columns=0,\n",
    "                     ax=None, **kwargs):\n",
    "    if ax is None:\n",
    "        size = (np.array(data.shape[::-1]) + np.array([0, 1])) * np.array([col_width, row_height])\n",
    "        fig, ax = plt.subplots(figsize=size)\n",
    "        ax.axis('off')\n",
    "\n",
    "    mpl_table = ax.table(cellText=data.values, bbox=bbox, colLabels=data.columns, **kwargs)\n",
    "\n",
    "    mpl_table.auto_set_font_size(False)\n",
    "    mpl_table.set_fontsize(font_size)\n",
    "\n",
    "    for k, cell in six.iteritems(mpl_table._cells):\n",
    "        cell.set_edgecolor(edge_color)\n",
    "        if k[0] == 0:\n",
    "            cell.set_text_props(weight='bold', color='w', size=10) # smaller font for headers\n",
    "            cell.set_facecolor(header_color)\n",
    "            cell._text.set_wrap(True)  # Enable text wrapping for headers\n",
    "        else:\n",
    "            cell.set_facecolor(row_colors[k[0]%len(row_colors) ])\n",
    "    return ax.get_figure(), ax\n",
    "\n",
    "fig, ax = render_mpl_table(df, header_columns=0, col_width=2.5)\n",
    "fig.savefig(\"table.png\")\n"
   ]
  },
  {
   "cell_type": "code",
   "execution_count": null,
   "metadata": {},
   "outputs": [],
   "source": []
  }
 ],
 "metadata": {
  "kernelspec": {
   "display_name": "dynapse2",
   "language": "python",
   "name": "python3"
  },
  "language_info": {
   "codemirror_mode": {
    "name": "ipython",
    "version": 3
   },
   "file_extension": ".py",
   "mimetype": "text/x-python",
   "name": "python",
   "nbconvert_exporter": "python",
   "pygments_lexer": "ipython3",
   "version": "3.10.9"
  },
  "orig_nbformat": 4
 },
 "nbformat": 4,
 "nbformat_minor": 2
}
