{
 "cells": [
  {
   "cell_type": "markdown",
   "metadata": {},
   "source": [
    "<font size=8> Network Tests\n"
   ]
  },
  {
   "cell_type": "code",
   "execution_count": 1,
   "metadata": {},
   "outputs": [],
   "source": [
    "#Common Python Packages\n",
    "from pickle import TRUE\n",
    "import pickle\n",
    "import numpy as np\n",
    "import matplotlib.pyplot as plt\n",
    "import timeout_decorator\n",
    "\n",
    "#dynapse2 spikegen imports\n",
    "from lib.dynapse2_util import *\n",
    "from lib.dynapse2_network import Network\n",
    "from lib.dynapse2_spikegen import send_events,get_fpga_time, send_virtual_events, poisson_gen, isi_gen,regular_gen\n",
    "from lib.dynapse2_raster import *\n",
    "from lib.dynapse2_obj import *\n",
    "\n",
    "#Statistics imports\n",
    "from scipy.optimize import curve_fit\n",
    "from scipy.signal import savgol_filter\n",
    "from scipy.signal import butter, filtfilt\n",
    "from sklearn.linear_model import LinearRegression\n",
    "from scipy.stats import linregress\n",
    "from itertools import product\n",
    "#my imports\n",
    "from adaptation import pc_single,ff,pc_pv_sst,ff_network\n",
    "from adaptation_lib.spike_stats import *\n",
    "from adaptation_lib.dynapse_setup import *\n",
    "from adaptation_lib.graphing import *\n",
    "from configs import neuron_configs_bio\n",
    "\n",
    "\n",
    "\n",
    "\n"
   ]
  },
  {
   "cell_type": "code",
   "execution_count": 2,
   "metadata": {},
   "outputs": [
    {
     "name": "stdout",
     "output_type": "stream",
     "text": [
      "[<samna.device.DeviceInfo object at 0x7fe6d818ac70>]\n"
     ]
    }
   ],
   "source": [
    "[board,profile_path,number_of_chips]=obtain_board()"
   ]
  },
  {
   "cell_type": "code",
   "execution_count": 3,
   "metadata": {},
   "outputs": [
    {
     "name": "stdout",
     "output_type": "stream",
     "text": [
      "\n"
     ]
    }
   ],
   "source": [
    "\n",
    "#Initialization\n",
    "model = board.get_model()\n",
    "model.reset(ResetType.PowerCycle, (1 << number_of_chips) - 1)\n",
    "time.sleep(1)\n",
    "myConfig = model.get_configuration()\n",
    "model.apply_configuration(myConfig)\n",
    "time.sleep(1)\n",
    "\n",
    "#Set up network\n",
    "network = Network(config=myConfig, profile_path=profile_path, num_chips=number_of_chips)\n",
    "\n",
    "input = network.add_virtual_group(size=1)#normal input\n",
    "test_neurons = network.add_group(chip=0, core=1, size=64)\n",
    "\n",
    "inp=.5\n",
    "recc=1-inp\n",
    "recc_exc=recc*.08\n",
    "recc_inh=recc*.02\n",
    "\n",
    "#Input Connections\n",
    "network.add_connection(source=input, target=test_neurons, probability=inp,\n",
    "                  dendrite=Dendrite.ampa, weight=[True, False, False, False],repeat=1)\n",
    "network.add_connection(source=test_neurons, target=test_neurons, probability=recc_exc,\n",
    "                  dendrite=Dendrite.ampa, weight=[False, True, False, False],repeat=1)\n",
    "network.add_connection(source=test_neurons, target=test_neurons, probability=recc_inh,\n",
    "                  dendrite=Dendrite.gaba, weight=[False, False, True, False],repeat=1)\n",
    "network.connect()\n",
    "\n",
    "neuron_measure=0\n",
    "#set neuron to monitor\n",
    "myConfig.chips[0].cores[c].neuron_monitoring_on = True\n",
    "myConfig.chips[0].cores[c].monitored_neuron =  neuron_measure\n",
    "model.apply_configuration(myConfig)\n",
    "time.sleep(0.1)\n",
    "\n"
   ]
  },
  {
   "cell_type": "code",
   "execution_count": 16,
   "metadata": {},
   "outputs": [],
   "source": [
    "input_events=regular_gen(input,1,100,1)\n",
    "\n",
    "c=0\n",
    "#Set neurons spiking threadholds to maximum and leakage to maximum\n",
    "set_parameter(myConfig.chips[0].cores[c].parameters,'SOIF_GAIN_N',4,200)\n",
    "set_parameter(myConfig.chips[0].cores[c].parameters,'SOIF_REFR_N',3,200)\n",
    "set_parameter(myConfig.chips[0].cores[c].parameters,'SOIF_SPKTHR_P',3,100)\n",
    "set_parameter(myConfig.chips[0].cores[c].parameters,'SOIF_LEAK_N',1,100)\n",
    "set_parameter(myConfig.chips[0].cores[c].parameters, 'SYAM_W0_P', 3,200)#Input Channel Weight\n",
    "set_parameter(myConfig.chips[0].cores[c].parameters, 'SYAM_W1_P', 2,200)#Recurrent Excitatory Weight\n",
    "set_parameter(myConfig.chips[0].cores[c].parameters, 'SYAM_W2_P', 2,100)#Inhibitory Weight\n",
    "set_parameter(myConfig.chips[0].cores[c].parameters, 'SYPD_EXT_N', 3, 200)\n",
    "\n",
    "\n",
    "set_parameter(myConfig.chips[0].cores[c].parameters, 'DEGA_ITAU_P',leak_coarse,leak_fine)# SST to PC\n",
    "set_parameter(myConfig.chips[0].cores[c].parameters, 'DEGA_IGAIN_P',5,100)\n",
    "\n",
    "set_parameter(myConfig.chips[0].cores[c].parameters,'DEAM_ETAU_P',2,10)\n",
    "set_parameter(myConfig.chips[0].cores[c].parameters,'DEAM_EGAIN_P',3,180) \n",
    "model.apply_configuration(myConfig)\n",
    "time.sleep(0.1)\n",
    "\n",
    "\n"
   ]
  },
  {
   "cell_type": "code",
   "execution_count": 17,
   "metadata": {},
   "outputs": [
    {
     "name": "stdout",
     "output_type": "stream",
     "text": [
      "initilize run dynapse\n",
      "\n",
      "setting virtual neurons\n",
      "\n"
     ]
    }
   ],
   "source": [
    "print('initilize run dynapse')\n",
    "ts = get_fpga_time(board=board) + 100000\n",
    "min_delay = 0\n",
    "print(\"\\nsetting virtual neurons\\n\")\n",
    "send_virtual_events(board=board, virtual_events=input_events, offset=int(ts), min_delay=int(min_delay))\n",
    "output_events = [[], []]\n",
    "get_events(board=board, extra_time=10000, output_events=output_events)"
   ]
  },
  {
   "cell_type": "code",
   "execution_count": 18,
   "metadata": {},
   "outputs": [
    {
     "data": {
      "image/png": "[encoded data removed]",
      "text/plain": [
       "<Figure size 1000x500 with 1 Axes>"
      ]
     },
     "metadata": {},
     "output_type": "display_data"
    }
   ],
   "source": [
    "plot_raster(output_events)\n"
   ]
  },
  {
   "cell_type": "code",
   "execution_count": null,
   "metadata": {},
   "outputs": [],
   "source": []
  }
 ],
 "metadata": {
  "kernelspec": {
   "display_name": "dynapse2",
   "language": "python",
   "name": "python3"
  },
  "language_info": {
   "codemirror_mode": {
    "name": "ipython",
    "version": 3
   },
   "file_extension": ".py",
   "mimetype": "text/x-python",
   "name": "python",
   "nbconvert_exporter": "python",
   "pygments_lexer": "ipython3",
   "version": "3.10.9"
  },
  "orig_nbformat": 4
 },
 "nbformat": 4,
 "nbformat_minor": 2
}
