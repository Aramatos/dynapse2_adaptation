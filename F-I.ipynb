{
 "cells": [
  {
   "cell_type": "markdown",
   "metadata": {},
   "source": [
    "<font size=8> F-I curve test"
   ]
  },
  {
   "cell_type": "code",
   "execution_count": 2,
   "metadata": {},
   "outputs": [],
   "source": [
    "from adaptation import  ff_network, pc_pv_sst, pc_pv,pc_single,pv_single,ff_pc_pv,ff,sst_single,pc_pv_de\n",
    "from adaptation_lib import dynapse_setup,graphing\n",
    "from measure import meas_syn_tau\n",
    "import numpy as np\n",
    "import matplotlib.pyplot as plt\n",
    "from configs.neuron_configs import neuron_configs\n",
    "from scipy.optimize import curve_fit\n",
    "from scipy.signal import butter, filtfilt\n"
   ]
  },
  {
   "cell_type": "code",
   "execution_count": 3,
   "metadata": {},
   "outputs": [
    {
     "name": "stdout",
     "output_type": "stream",
     "text": [
      "[<samna.device.DeviceInfo object at 0x7fb7ddc86e30>]\n"
     ]
    }
   ],
   "source": [
    "[board,profile_path,number_of_chips]=dynapse_setup.obtain_board()"
   ]
  },
  {
   "cell_type": "code",
   "execution_count": 4,
   "metadata": {},
   "outputs": [
    {
     "name": "stdout",
     "output_type": "stream",
     "text": [
      "Setting Latches\n",
      "\n",
      "\n",
      "PC Neurons\n",
      "\n",
      "[221, 235, 239, 255, 201, 211, 223, 230, 252, 253, 237, 234, 236, 250, 169, 180, 183, 189, 204, 227, 242, 188, 194, 207, 248, 251, 203, 215, 219, 228, 196, 165, 171, 181, 195, 220, 222, 244, 149, 156, 164, 179, 205, 206, 217, 226, 238, 254, 148, 157, 158, 210, 214, 232, 245, 246, 131, 152, 161, 163, 167, 173, 176, 198, 200, 209, 231, 233, 113, 146, 170, 190, 192, 197, 229, 247, 249, 115, 118, 139, 141, 143, 159, 160, 166, 186, 202, 213, 218, 107, 134, 151, 155, 162, 177, 191, 216, 225, 243, 116, 126, 130, 140, 145, 168, 175, 182, 185, 187, 224, 129, 147, 150, 172, 241, 70, 114, 121, 132, 178, 212, 100, 119, 124, 133, 174, 199, 84, 108, 120, 125, 137, 154, 240, 98, 101, 135, 142, 184, 193, 68, 85, 112, 138, 67, 128, 99, 106, 109, 117, 122, 123, 136, 153, 66, 69, 71, 86, 88, 97, 102, 144, 208, 56, 77, 93, 111, 38, 50, 74, 81, 83, 51, 53, 65, 73, 79, 87, 91, 127, 27, 54, 72, 90, 94, 103, 104, 105, 20, 37, 39, 59, 64, 75, 96, 19, 22, 40, 60, 92]\n",
      "\n",
      "PV Neurons\n",
      "\n",
      "[255, 252, 202, 233, 239, 223, 206, 238, 251, 173, 207, 253, 254, 186, 199, 221, 235, 237, 191, 213, 217, 222, 231, 184, 190, 234, 175, 220, 232, 249, 177, 203, 204, 205, 219, 246, 188, 197, 214, 218, 143, 153, 167, 169, 170, 172, 185, 215, 225, 229, 230, 236, 244, 250, 151, 159, 166, 171, 127, 129, 147, 165, 174, 179, 187, 201, 211, 156, 182, 189, 193, 196, 227, 245, 117, 140, 160, 161, 200, 212, 242, 247, 106, 121, 123, 158, 163, 216, 241, 107, 115, 131, 142, 168, 183, 194, 198, 240, 133, 141, 152, 154, 155, 157, 162, 135, 145, 181, 195, 210, 87, 92, 122, 137, 178, 192, 208, 226, 243, 99, 105, 136, 139, 164, 180, 248, 74, 89, 91, 93, 111, 114, 125, 130, 134, 138, 224, 120, 149, 209, 228, 85, 88, 101, 119, 126, 148, 41, 57, 69, 97, 116, 132, 146, 150, 66, 95, 100, 102, 103, 108, 109, 113, 118, 124, 144, 176, 53, 71, 94, 104, 110, 44, 75, 76, 81, 26, 51, 58, 60, 79, 80, 84, 96, 39, 52, 65, 67, 73, 98, 5, 20, 23, 25, 55, 56, 59, 72, 77, 83]\n",
      "\n",
      "SST Neurons\n",
      "\n",
      "[0, 1, 2, 3, 4, 5, 6, 7, 8, 9, 10, 11, 12, 13, 14, 15, 16, 17, 18, 19, 20, 21, 22, 23, 24, 25, 26, 27, 28, 29, 30, 31, 32, 33, 34, 35, 36, 37, 38, 39, 40, 41, 42, 43, 44, 45, 46, 47, 48, 49, 50, 51, 52, 53, 54, 55, 56, 57, 58, 59, 60, 61, 62, 63, 64, 65, 66, 67, 68, 69, 70, 71, 72, 73, 74, 75, 76, 77, 78, 79, 80, 81, 82, 83, 84, 85, 86, 87, 88, 89, 90, 91, 92, 93, 94, 95, 96, 97, 98, 99, 100, 101, 102, 103, 104, 105, 106, 107, 108, 109, 110, 111, 112, 113, 114, 115, 116, 117, 118, 119, 120, 121, 122, 123, 124, 125, 126, 127, 128, 129, 130, 131, 132, 133, 134, 135, 136, 137, 138, 139, 140, 141, 142, 143, 144, 145, 146, 147, 148, 149, 150, 151, 152, 153, 154, 155, 156, 157, 158, 159, 160, 161, 162, 163, 164, 165, 166, 167, 168, 169, 170, 171, 172, 173, 174, 175, 176, 177, 178, 179, 180, 181, 182, 183, 184, 185, 186, 187, 188, 189, 190, 191, 192, 193, 194, 195, 196, 197, 198, 199]\n",
      "\n",
      "All configurations done!\n",
      "\n"
     ]
    }
   ],
   "source": [
    "neuron_config=neuron_configs()\n",
    "neuron_config['input']='DC'\n",
    "neuron_config['DC_Latches']=True\n",
    "neuron_config['PC_GAIN']=[1,40]\n",
    "neuron_config['PC_LEAK']=[1,46]\n",
    "neuron_config['PC_REF']=[1,140]\n",
    "neuron_config['PC_SPK_THR']=[4,120]\n",
    "neuron_config['PC_DC']=[0,0]\n",
    "neuron_config['PV_GAIN']=[1,40]\n",
    "neuron_config['PV_LEAK']=[1,88]\n",
    "neuron_config['PV_REF']=[1,140]\n",
    "neuron_config['PV_SPK_THR']=[3,100]\n",
    "neuron_config['PV_DC']=[0,0]\n",
    "neuron_config['SST_GAIN']=[1,120]\n",
    "neuron_config['SST_LEAK']=[1,44]\n",
    "neuron_config['SST_REF']=[1,140]\n",
    "neuron_config['SST_SPK_THR']=[3,100]\n",
    "neuron_config['SST_DC']=[0,0]\n",
    "\n",
    "FF_output=ff.ff_single_neurons(board=board, profile_path=profile_path, number_of_chips=number_of_chips,neuron_config=neuron_config)"
   ]
  },
  {
   "cell_type": "code",
   "execution_count": 5,
   "metadata": {},
   "outputs": [],
   "source": [
    "data_path='/home/hector/Documents/dynapse-se2-data/time_constant_tests/'\n",
    "np.save(data_path+'FF_output.npy',FF_output)\n"
   ]
  },
  {
   "cell_type": "code",
   "execution_count": 7,
   "metadata": {},
   "outputs": [
    {
     "name": "stdout",
     "output_type": "stream",
     "text": [
      "[[0, 0, 0, 0, 0, 0, 0, 0], [0, 0, 0, 0, 0, 0, 0, 0], [0, 0, 0, 0, 0, 0, 0, 0], [0, 0, 0, 0, 0, 0, 0, 0], [0, 0, 0, 0, 0, 0, 0, 0], [0, 0, 0, 0, 0, 0, 0, 0], [0, 0, 0, 0, 0, 0, 0, 0], [0, 0, 0, 0, 0, 0, 0, 0], [0, 0, 0, 0, 0, 0, 0, 0], [0, 0, 0, 0, 0, 0, 0, 0], [0, 0, 0, 0, 0, 0, 0, 0], [0, 0, 0, 0, 0, 0, 0, 0], [0, 0, 0, 0, 0, 0, 0, 0], [0, 0, 0, 0, 0, 0, 0, 0], [0, 0, 0, 0, 0, 0, 0, 0], [0, 0, 0, 0, 0, 0, 0, 0], [0, 0, 0, 0, 0, 0, 0, 0], [0, 0, 0, 0, 0, 0, 0, 0], [0, 0, 0, 0, 0, 0, 0, 0], [0, 0, 0, 0, 0, 0, 0, 0], [0, 0, 0, 0, 0, 0, 0, 0], [0, 0, 0, 0, 0, 0, 0, 0], [0, 0, 0, 0, 0, 0, 0, 0], [0, 0, 0, 0, 0, 0, 0, 0], [0, 0, 0, 0, 0, 0, 0, 0], [0, 0, 0, 0, 0, 0, 0, 0], [0, 0, 0, 0, 0, 0, 0, 0], [0, 0, 0, 0, 0, 0, 0, 0], [0, 0, 0, 0, 0, 0, 0, 0], [0, 0, 0, 0, 0, 0, 0, 0], [0, 0, 0, 0, 0, 0, 0, 0], [0, 0, 0, 0, 0, 0, 0, 0], [0, 0, 0, 0, 0, 0, 0, 0], [0, 0, 0, 0, 0, 0, 0, 0], [0, 0, 0, 0, 0, 0, 0, 0], [0, 0, 0, 0, 0, 0, 0, 0], [0, 0, 0, 0, 0, 0, 0, 0], [0, 0, 0, 0, 0, 0, 0, 0], [0, 0, 0, 0, 0, 0, 0, 0], [0, 0, 0, 0, 0, 0, 0, 0], [0, 0, 0, 0, 0, 0, 0, 0], [0, 0, 0, 0, 0, 0, 0, 0], [0, 0, 0, 0, 0, 0, 0, 0], [0, 0, 0, 0, 0, 0, 0, 0], [0, 0, 0, 0, 0, 0, 0, 0], [0, 0, 0, 0, 0, 0, 0, 0], [0, 0, 0, 0, 0, 0, 0, 0], [0, 0, 0, 0, 0, 0, 0, 0], [0, 0, 0, 0, 0, 0, 0, 0], [0, 0, 0, 0, 0, 0, 0, 0], [0, 0, 0, 0, 0, 0, 0, 0], [0, 0, 0, 0, 0, 0, 0, 0], [0, 0, 0, 0, 0, 0, 0, 0], [0, 0, 0, 0, 0, 0, 0, 0], [0, 0, 0, 0, 0, 0, 0, 0], [0, 0, 0, 0, 0, 0, 0, 0], [0, 0, 0, 0, 0, 0, 0, 0], [0, 0, 0, 0, 0, 0, 0, 0], [0, 0, 0, 0, 0, 0, 0, 0], [0, 0, 0, 0, 0, 0, 0, 0], [0, 0, 0, 0, 0, 0, 0, 0], [0, 0, 0, 0, 0, 0, 0, 0], [0, 0, 0, 0, 0, 0, 0, 0], [0, 0, 0, 0, 0, 0, 0, 0], [0, 0, 0, 0, 0, 0, 0, 0], [0, 0, 0, 0, 0, 0, 0, 0], [0, 0, 0, 0, 0, 0, 0, 0], [0, 0, 0, 0, 0, 0, 0, 0], [0, 0, 0, 0, 0, 0, 0, 0], [0, 0, 0, 0, 0, 0, 0, 0], [0, 0, 0, 0, 0, 0, 0, 0], [0, 0, 0, 0, 0, 0, 0, 0], [0, 0, 0, 0, 0, 0, 0, 0], [0, 0, 0, 0, 0, 0, 0, 0], [0, 0, 0, 0, 0, 0, 0, 0], [0, 0, 0, 0, 0, 0, 0, 0], [0, 0, 0, 0, 0, 0, 0, 0], [0, 0, 0, 0, 0, 0, 0, 0], [0, 0, 0, 0, 0, 0, 0, 0], [0, 0, 0, 0, 0, 0, 0, 0], [0, 0, 0, 0, 0, 0, 0, 0], [0, 0, 0, 0, 0, 0, 0, 0], [0, 0, 0, 0, 0, 0, 0, 0], [0, 0, 0, 0, 0, 0, 0, 0], [0, 0, 0, 0, 0, 0, 0, 0], [0, 0, 0, 0, 0, 0, 0, 0], [0, 0, 0, 0, 0, 0, 0, 0], [0, 0, 0, 0, 0, 0, 0, 0], [0, 0, 0, 0, 0, 0, 0, 0], [0, 0, 0, 0, 0, 0, 0, 0], [0, 0, 0, 0, 0, 0, 0, 0], [0, 0, 0, 0, 0, 0, 0, 0], [0, 0, 0, 0, 0, 0, 0, 0], [0, 0, 0, 0, 0, 0, 0, 0], [0, 0, 0, 0, 0, 0, 0, 0], [0, 0, 0, 0, 0, 0, 0, 0], [0, 0, 0, 0, 0, 0, 0, 0], [0, 0, 0, 0, 0, 0, 0, 0], [0, 0, 0, 0, 0, 0, 0, 0], [0, 0, 0, 0, 0, 0, 0, 0], [0, 0, 0, 0, 0, 0, 0, 0], [0, 0, 0, 0, 0, 0, 0, 0], [0, 0, 0, 0, 0, 0, 0, 0], [0, 0, 0, 0, 0, 0, 0, 0], [0, 0, 0, 0, 0, 0, 0, 0], [0, 0, 0, 0, 0, 0, 0, 0], [0, 0, 0, 0, 0, 0, 0, 0], [0, 0, 0, 0, 0, 0, 0, 0], [0, 0, 0, 0, 0, 0, 0, 0], [0, 0, 0, 0, 0, 0, 0, 0], [0, 0, 0, 0, 0, 0, 0, 0], [0, 0, 0, 0, 0, 0, 0, 0], [0, 0, 0, 0, 0, 0, 0, 0], [0, 0, 0, 0, 0, 0, 0, 0], [0, 0, 0, 0, 0, 0, 0, 0], [0, 0, 0, 0, 0, 0, 0, 0], [0, 0, 0, 0, 0, 0, 0, 0], [0, 0, 0, 0, 0, 0, 0, 0], [0, 0, 0, 0, 0, 0, 0, 0], [0, 0, 0, 0, 0, 0, 0, 0], [0, 0, 0, 0, 0, 0, 0, 0], [0, 0, 0, 0, 0, 0, 0, 0], [0, 0, 0, 0, 0, 0, 0, 0], [0, 0, 0, 0, 0, 0, 0, 0], [0, 0, 0, 0, 0, 0, 0, 0], [0, 0, 0, 0, 0, 0, 0, 0], [0, 0, 0, 0, 0, 0, 0, 0], [0, 0, 0, 0, 0, 0, 0, 0], [0, 0, 0, 0, 0, 0, 0, 0], [0, 0, 0, 0, 0, 0, 0, 0], [0, 0, 0, 0, 0, 0, 0, 0], [0, 0, 0, 0, 0, 0, 0, 0], [0, 0, 0, 0, 0, 0, 0, 0], [0, 0, 0, 0, 0, 0, 0, 0], [0, 0, 0, 0, 0, 0, 0, 0], [0, 0, 0, 0, 0, 0, 0, 0], [0, 0, 0, 0, 0, 0, 0, 0], [0, 0, 0, 0, 0, 0, 0, 0], [0, 0, 0, 0, 0, 0, 0, 0], [0, 0, 0, 0, 0, 0, 0, 0], [0, 0, 0, 0, 0, 0, 0, 0], [0, 0, 0, 0, 0, 0, 0, 0], [0, 0, 0, 0, 0, 0, 0, 0], [0, 0, 0, 0, 0, 0, 0, 0], [0, 0, 0, 0, 0, 0, 0, 0], [0, 0, 0, 0, 0, 0, 0, 0], [0, 0, 0, 0, 0, 0, 0, 0], [0, 0, 0, 0, 0, 0, 0, 0], [0, 0, 0, 0, 0, 0, 0, 0], [0, 0, 0, 0, 0, 0, 0, 0], [0, 0, 0, 0, 0, 0, 0, 0], [0, 0, 0, 0, 0, 0, 0, 0], [0, 0, 0, 0, 0, 0, 0, 0], [0, 0, 0, 0, 0, 0, 0, 0], [0, 0, 0, 0, 0, 0, 0, 0], [0, 0, 0, 0, 0, 0, 0, 0], [0, 0, 0, 0, 0, 0, 0, 0], [0, 0, 0, 0, 0, 0, 0, 0], [0, 0, 0, 0, 0, 0, 0, 0], [0, 0, 0, 0, 0, 0, 0, 0], [0, 0, 0, 0, 0, 0, 0, 0], [0, 0, 0, 0, 0, 0, 0, 0], [0, 0, 0, 0, 0, 0, 0, 0], [0, 0, 0, 0, 0, 0, 0, 0], [0, 0, 0, 0, 0, 0, 0, 0], [0, 0, 0, 0, 0, 0, 0, 0], [0, 0, 0, 0, 0, 0, 0, 0], [0, 0, 0, 0, 0, 0, 0, 0], [0, 0, 0, 0, 0, 0, 0, 0], [0, 0, 0, 0, 0, 0, 0, 0], [0, 0, 0, 0, 0, 0, 0, 0], [0, 0, 0, 0, 0, 0, 0, 0], [0, 0, 0, 0, 0, 0, 0, 0], [0, 0, 0, 0, 0, 0, 0, 0], [0, 0, 0, 0, 0, 0, 0, 0], [0, 0, 0, 0, 0, 0, 0, 0], [0, 0, 0, 0, 0, 0, 0, 0], [0, 0, 0, 0, 0, 0, 0, 0], [0, 0, 0, 0, 0, 0, 0, 0], [0, 0, 0, 0, 0, 0, 0, 0], [0, 0, 0, 0, 0, 0, 0, 0], [0, 0, 0, 0, 0, 0, 0, 0], [0, 0, 0, 0, 0, 0, 0, 0], [0, 0, 0, 0, 0, 0, 0, 0], [0, 0, 0, 0, 0, 0, 0, 0], [0, 0, 0, 0, 0, 0, 0, 0], [0, 0, 0, 0, 0, 0, 0, 0], [0, 0, 0, 0, 0, 0, 0, 0], [0, 0, 0, 0, 0, 0, 0, 0], [0, 0, 0, 0, 0, 0, 0, 0], [0, 0, 0, 0, 0, 0, 0, 0], [0, 0, 0, 0, 0, 0, 0, 0], [0, 0, 0, 0, 0, 0, 0, 0], [0, 0, 0, 0, 0, 0, 0, 0], [0, 0, 0, 0, 0, 0, 0, 0], [0, 0, 0, 0, 0, 0, 0, 0], [0, 0, 0, 0, 0, 0, 0, 0], [0, 0, 0, 0, 0, 0, 0, 0], [0, 0, 0, 0, 0, 0, 0, 0], [0, 0, 0, 0, 0, 0, 0, 0]]\n"
     ]
    }
   ],
   "source": [
    "print(FF_out_PC)"
   ]
  },
  {
   "cell_type": "code",
   "execution_count": 6,
   "metadata": {},
   "outputs": [
    {
     "data": {
      "image/png": "[encoded data removed]",
      "text/plain": [
       "<Figure size 640x480 with 1 Axes>"
      ]
     },
     "metadata": {},
     "output_type": "display_data"
    }
   ],
   "source": [
    "\n",
    "\n",
    "#FF_output=np.load(data_path+'FF_output.npy',allow_pickle=True)\n",
    "[FF_in,FF_out_PC,FF_out_PV,FF_out_SST,FF_cv]=FF_output\n",
    "\n",
    "means_PC = np.mean(FF_out_PC, axis=0)\n",
    "stds_PC = np.std(FF_out_PC, axis=0)\n",
    "means_PV = np.mean(FF_out_PV, axis=0)\n",
    "stds_PV = np.std(FF_out_PV, axis=0)\n",
    "means_SST = np.mean(FF_out_SST, axis=0)\n",
    "stds_SST = np.std(FF_out_SST, axis=0)\n",
    "\n",
    "#windows\n",
    "window=12\n",
    "FF_in=FF_in[0:window]\n",
    "means_PC=means_PC[0:window]\n",
    "stds_PC=stds_PC[0:window]\n",
    "means_PV=means_PV[0:window]\n",
    "stds_PV=stds_PV[0:window]\n",
    "means_SST=means_SST[0:window]\n",
    "stds_SST=stds_SST[0:window]\n",
    "\n",
    "normalization_factor=1\n",
    "\n",
    "def custom_relu_2(x, start_rise, slope):\n",
    "    \"\"\"\n",
    "    Custom piece-wise linear function with a flat portion and a rising slope.\n",
    "\n",
    "    Parameters:\n",
    "        x (float or numpy array): Input value(s).\n",
    "        start_rise (float): Starting point of the rising slope.\n",
    "        slope (float): Slope of the rising portion.\n",
    "\n",
    "    Returns:\n",
    "        float or numpy array: Output value(s) after applying the custom piece-wise linear function.\n",
    "    \"\"\"\n",
    "    return np.piecewise(x, [x < start_rise, x >= start_rise], [0, lambda x: slope * (x - start_rise)])\n",
    "\n",
    "fig, ax = plt.subplots()\n",
    "plt.title('F-I curve')\n",
    "plt.xlabel('Input Pulse normalized')\n",
    "plt.ylabel('Output frequency (Hz)')\n",
    "plt.plot(FF_in, means_PC, c='b', label='PC')\n",
    "plt.plot(FF_in, means_PV, c='r', label='PV')\n",
    "plt.plot(FF_in, means_SST, c='g', label='SST')\n",
    "relu_in=np.linspace(0,175/normalization_factor,100)\n",
    "plt.plot(relu_in, custom_relu_2((relu_in),.06,124), 'b-.', label='PC fit')\n",
    "plt.plot(relu_in, custom_relu_2((relu_in),.36,334), 'r-.', label='PV fit')\n",
    "plt.plot(relu_in, custom_relu_2((relu_in),.18,198), 'g-.', label='SST fit')\n",
    "plt.ylim(0, 200)\n",
    "#plot with error bars\n",
    "plt.errorbar(FF_in, means_PC, yerr=stds_PC, c='cornflowerblue')\n",
    "plt.errorbar(FF_in, means_PV, yerr=stds_PV, c='coral')\n",
    "#soft green color\n",
    "plt.errorbar(FF_in, means_SST, yerr=stds_SST, c='greenyellow')\n",
    "plt.legend()\n",
    "#remove right and top borders\n",
    "ax.spines['right'].set_visible(False)\n",
    "ax.spines['top'].set_visible(False)\n",
    "plt.show()"
   ]
  },
  {
   "cell_type": "code",
   "execution_count": 113,
   "metadata": {},
   "outputs": [
    {
     "name": "stdout",
     "output_type": "stream",
     "text": [
      "Optimized parameters: [1. 0.]\n"
     ]
    },
    {
     "name": "stderr",
     "output_type": "stream",
     "text": [
      "/home/hector/.local/lib/python3.10/site-packages/scipy/optimize/_minpack_py.py:906: OptimizeWarning: Covariance of the parameters could not be estimated\n",
      "  warnings.warn('Covariance of the parameters could not be estimated',\n"
     ]
    },
    {
     "data": {
      "text/plain": [
       "[<matplotlib.lines.Line2D at 0x7fd961d66a70>]"
      ]
     },
     "execution_count": 113,
     "metadata": {},
     "output_type": "execute_result"
    },
    {
     "data": {
      "image/png": "[encoded data removed]",
      "text/plain": [
       "<Figure size 640x480 with 1 Axes>"
      ]
     },
     "metadata": {},
     "output_type": "display_data"
    }
   ],
   "source": [
    "# Define the ReLU (Rectified Linear Unit) function\n",
    "def relu(x, a,b):\n",
    "    return np.maximum(0, x*b - a)\n",
    "\n",
    "# Sample input data\n",
    "FF_in_norm = np.array([0.1, 0.2, 0.3, 0.4, 0.5])\n",
    "FF_out_SST = np.array([0.3, 0.5, 0.7, 0.8, 1.0])\n",
    "\n",
    "# Perform the curve fitting\n",
    "popt, pcov = curve_fit(relu, FF_in_norm, FF_out_SST, p0=(1.0, 0.0))\n",
    "\n",
    "print(\"Optimized parameters:\", popt)\n",
    "plt.plot(FF_in_norm, FF_out_SST, 'ko', label=\"Original Noised Data\")\n",
    "plt.plot(FF_in_norm, relu(FF_in_norm, *popt), 'r-', label=\"Fitted Curve\")"
   ]
  },
  {
   "cell_type": "code",
   "execution_count": 6,
   "metadata": {},
   "outputs": [
    {
     "ename": "ValueError",
     "evalue": "object too deep for desired array",
     "output_type": "error",
     "traceback": [
      "\u001b[0;31m---------------------------------------------------------------------------\u001b[0m",
      "\u001b[0;31mValueError\u001b[0m                                Traceback (most recent call last)",
      "\u001b[0;31mValueError\u001b[0m: object too deep for desired array"
     ]
    },
    {
     "ename": "error",
     "evalue": "Result from function call is not a proper array of floats.",
     "output_type": "error",
     "traceback": [
      "\u001b[0;31m---------------------------------------------------------------------------\u001b[0m",
      "\u001b[0;31merror\u001b[0m                                     Traceback (most recent call last)",
      "Cell \u001b[0;32mIn[6], line 7\u001b[0m\n\u001b[1;32m      4\u001b[0m \u001b[39mdef\u001b[39;00m \u001b[39mrelu\u001b[39m(x,a,b):\n\u001b[1;32m      5\u001b[0m     \u001b[39mreturn\u001b[39;00m np\u001b[39m.\u001b[39mmaximum(a\u001b[39m*\u001b[39mx\u001b[39m+\u001b[39mb,\u001b[39m0\u001b[39m)\n\u001b[0;32m----> 7\u001b[0m popt,pcov\u001b[39m=\u001b[39mcurve_fit(relu,FF_in,FF_out_PC)\n\u001b[1;32m      8\u001b[0m \u001b[39mprint\u001b[39m(popt)\n\u001b[1;32m      9\u001b[0m plt\u001b[39m.\u001b[39mplot(FF_in,FF_out_PC,\u001b[39m'\u001b[39m\u001b[39m.\u001b[39m\u001b[39m'\u001b[39m)\n",
      "File \u001b[0;32m~/.local/lib/python3.10/site-packages/scipy/optimize/_minpack_py.py:859\u001b[0m, in \u001b[0;36mcurve_fit\u001b[0;34m(f, xdata, ydata, p0, sigma, absolute_sigma, check_finite, bounds, method, jac, full_output, **kwargs)\u001b[0m\n\u001b[1;32m    856\u001b[0m \u001b[39mif\u001b[39;00m ydata\u001b[39m.\u001b[39msize \u001b[39m!=\u001b[39m \u001b[39m1\u001b[39m \u001b[39mand\u001b[39;00m n \u001b[39m>\u001b[39m ydata\u001b[39m.\u001b[39msize:\n\u001b[1;32m    857\u001b[0m     \u001b[39mraise\u001b[39;00m \u001b[39mTypeError\u001b[39;00m(\u001b[39mf\u001b[39m\u001b[39m\"\u001b[39m\u001b[39mThe number of func parameters=\u001b[39m\u001b[39m{\u001b[39;00mn\u001b[39m}\u001b[39;00m\u001b[39m must not\u001b[39m\u001b[39m\"\u001b[39m\n\u001b[1;32m    858\u001b[0m                     \u001b[39mf\u001b[39m\u001b[39m\"\u001b[39m\u001b[39m exceed the number of data points=\u001b[39m\u001b[39m{\u001b[39;00mydata\u001b[39m.\u001b[39msize\u001b[39m}\u001b[39;00m\u001b[39m\"\u001b[39m)\n\u001b[0;32m--> 859\u001b[0m res \u001b[39m=\u001b[39m leastsq(func, p0, Dfun\u001b[39m=\u001b[39;49mjac, full_output\u001b[39m=\u001b[39;49m\u001b[39m1\u001b[39;49m, \u001b[39m*\u001b[39;49m\u001b[39m*\u001b[39;49mkwargs)\n\u001b[1;32m    860\u001b[0m popt, pcov, infodict, errmsg, ier \u001b[39m=\u001b[39m res\n\u001b[1;32m    861\u001b[0m ysize \u001b[39m=\u001b[39m \u001b[39mlen\u001b[39m(infodict[\u001b[39m'\u001b[39m\u001b[39mfvec\u001b[39m\u001b[39m'\u001b[39m])\n",
      "File \u001b[0;32m~/.local/lib/python3.10/site-packages/scipy/optimize/_minpack_py.py:426\u001b[0m, in \u001b[0;36mleastsq\u001b[0;34m(func, x0, args, Dfun, full_output, col_deriv, ftol, xtol, gtol, maxfev, epsfcn, factor, diag)\u001b[0m\n\u001b[1;32m    424\u001b[0m     \u001b[39mif\u001b[39;00m maxfev \u001b[39m==\u001b[39m \u001b[39m0\u001b[39m:\n\u001b[1;32m    425\u001b[0m         maxfev \u001b[39m=\u001b[39m \u001b[39m200\u001b[39m\u001b[39m*\u001b[39m(n \u001b[39m+\u001b[39m \u001b[39m1\u001b[39m)\n\u001b[0;32m--> 426\u001b[0m     retval \u001b[39m=\u001b[39m _minpack\u001b[39m.\u001b[39;49m_lmdif(func, x0, args, full_output, ftol, xtol,\n\u001b[1;32m    427\u001b[0m                              gtol, maxfev, epsfcn, factor, diag)\n\u001b[1;32m    428\u001b[0m \u001b[39melse\u001b[39;00m:\n\u001b[1;32m    429\u001b[0m     \u001b[39mif\u001b[39;00m col_deriv:\n",
      "\u001b[0;31merror\u001b[0m: Result from function call is not a proper array of floats."
     ]
    }
   ],
   "source": [
    "[FF_in,FF_out_PC,FF_out_PV,FF_out_SST,FF_cv]=FF_output\n",
    "\n",
    "#fit a linear relu function to the data\n",
    "def relu(x,a,b):\n",
    "    return np.maximum(a*x+b,0)\n",
    "\n",
    "popt,pcov=curve_fit(relu,FF_in,FF_out_PC)\n",
    "print(popt)\n",
    "plt.plot(FF_in,FF_out_PC,'.')\n",
    "plt.plot(FF_in,relu(FF_in,*popt))\n",
    "plt.show()\n",
    "#fit a linear relu function to the data\n",
    "def relu(x,a,b):\n",
    "    return np.maximum(a*x+b,0)\n",
    "popt,pcov=curve_fit(relu,FF_in,FF_out_PV)\n",
    "print(popt)\n",
    "plt.plot(FF_in,FF_out_PV,'.')\n",
    "plt.plot(FF_in,relu(FF_in,*popt))\n",
    "plt.show()\n",
    "#fit a linear relu function to the data\n",
    "def relu(x,a,b):\n",
    "    return np.maximum(a*x+b,0)\n",
    "popt,pcov=curve_fit(relu,FF_in,FF_out_SST)\n",
    "print(popt)\n",
    "plt.plot(FF_in,FF_out_SST,'.')\n",
    "plt.plot(FF_in,relu(FF_in,*popt))\n",
    "plt.show()\n",
    "#fit a linear relu function to the data\n",
    "def relu(x,a,b):\n",
    "    return np.maximum(a*x+b,0)"
   ]
  },
  {
   "cell_type": "code",
   "execution_count": null,
   "metadata": {},
   "outputs": [],
   "source": [
    "neuron_config=neuron_configs.neuron_configs['duration']=0.5\n",
    "frequency_vs_input_plot(FF_output, test_config,neuron_config, annotate=False)"
   ]
  },
  {
   "cell_type": "code",
   "execution_count": 11,
   "metadata": {},
   "outputs": [
    {
     "data": {
      "text/plain": [
       "NoneType"
      ]
     },
     "execution_count": 11,
     "metadata": {},
     "output_type": "execute_result"
    }
   ],
   "source": [
    "type(FF_output)"
   ]
  },
  {
   "cell_type": "code",
   "execution_count": null,
   "metadata": {},
   "outputs": [],
   "source": []
  },
  {
   "cell_type": "code",
   "execution_count": null,
   "metadata": {},
   "outputs": [],
   "source": []
  }
 ],
 "metadata": {
  "kernelspec": {
   "display_name": "dynapse2",
   "language": "python",
   "name": "python3"
  },
  "language_info": {
   "codemirror_mode": {
    "name": "ipython",
    "version": 3
   },
   "file_extension": ".py",
   "mimetype": "text/x-python",
   "name": "python",
   "nbconvert_exporter": "python",
   "pygments_lexer": "ipython3",
   "version": "3.10.9"
  },
  "orig_nbformat": 4
 },
 "nbformat": 4,
 "nbformat_minor": 2
}
